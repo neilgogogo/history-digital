{
 "cells": [
  {
   "cell_type": "markdown",
   "metadata": {},
   "source": [
    "# 分词部分"
   ]
  },
  {
   "cell_type": "code",
   "execution_count": 1,
   "metadata": {
    "tags": []
   },
   "outputs": [],
   "source": [
    "import os \n",
    "import re\n",
    "\n",
    "import jieba\n",
    "import json\n",
    "import pandas as pd"
   ]
  },
  {
   "cell_type": "code",
   "execution_count": 2,
   "metadata": {},
   "outputs": [],
   "source": [
    "### ONLY FOR TEST\n",
    "def test_segmentation(poem, user_dict=None):   \n",
    "    for s in poem:\n",
    "        seg_list = jieba.cut(s, cut_all=False)  \n",
    "        print('/'.join(list(seg_list)))\n",
    "        \n",
    "def run_test_1(user_dict=None):\n",
    "    poem = ['秦川雄帝宅，函谷壯皇居。', '綺殿千尋起，離宮百雉餘。', '連甍遙接漢，飛觀迥凌虛。', '雲日隱層闕，風煙出綺疎。']\n",
    "    print('Poem #1')\n",
    "    test_segmentation(poem, user_dict)\n",
    "    \n",
    "    poem = ['遠山媚平楚，宿雨漲清溪。', '沿泝任舟檝，歡言無町畦。', '夜深忽梦少年事，梦啼妆泪红阑干']\n",
    "    print('Poem #2')\n",
    "    test_segmentation(poem, user_dict)\n",
    "    \n",
    "    poem = ['剑外忽传收蓟北，初闻涕泪满衣裳。',\n",
    "            '却看妻子愁何在，漫卷诗书喜欲狂。',\n",
    "            '白日放歌须纵酒，青春作伴好还乡。',\n",
    "            '即从巴峡穿巫峡，便下襄阳向洛阳。']\n",
    "    print('Poem #3')\n",
    "    test_segmentation(poem, user_dict)\n",
    "    \n",
    "    poem = ['明月几时有，把酒问青天。', '不知天上宫阙，今夕是何年。', '我欲乘风归去，又恐琼楼玉宇，高处不胜寒。', '起舞弄清影，何似在人间。',\n",
    "              '转朱阁，低绮户，照无眠。', '不应有恨，何事长向别时圆。', '人有悲欢离合，月有阴晴圆缺，此事古难全。', '但愿人长久，千里共婵娟。']\n",
    "    print('Poem #4')\n",
    "    test_segmentation(poem, user_dict)"
   ]
  },
  {
   "cell_type": "code",
   "execution_count": 3,
   "metadata": {},
   "outputs": [],
   "source": [
    "LYRIC_DIR = './ci/'\n",
    "POEM_DIR = './json/'"
   ]
  },
  {
   "cell_type": "markdown",
   "metadata": {},
   "source": [
    "## 唐诗"
   ]
  },
  {
   "cell_type": "markdown",
   "metadata": {},
   "source": [
    "先测试一下jieba分词的原始分词功能，以下诗句明显分错：\n",
    "+ 秦川/雄帝/宅/\n",
    "+ 沿/泝/任舟/檝/，/歡言/無/町/畦/\n",
    "+ /月/有/阴晴圆/缺/"
   ]
  },
  {
   "cell_type": "code",
   "execution_count": 4,
   "metadata": {},
   "outputs": [
    {
     "name": "stderr",
     "output_type": "stream",
     "text": [
      "Building prefix dict from the default dictionary ...\n",
      "Loading model from cache C:\\Users\\30561\\AppData\\Local\\Temp\\jieba.cache\n"
     ]
    },
    {
     "name": "stdout",
     "output_type": "stream",
     "text": [
      "Poem #1\n"
     ]
    },
    {
     "name": "stderr",
     "output_type": "stream",
     "text": [
      "Loading model cost 0.605 seconds.\n",
      "Prefix dict has been built successfully.\n"
     ]
    },
    {
     "name": "stdout",
     "output_type": "stream",
     "text": [
      "秦川/雄帝/宅/，/函谷壯/皇居/。\n",
      "綺/殿/千尋起/，/離宮/百雉/餘/。\n",
      "連/甍/遙/接漢/，/飛觀/迥凌虛/。\n",
      "雲日/隱層/闕/，/風煙出/綺/疎/。\n",
      "Poem #2\n",
      "遠山媚/平楚/，/宿雨漲/清溪/。\n",
      "沿/泝/任舟/檝/，/歡言/無/町/畦/。\n",
      "夜深/忽梦/少年/事/，/梦啼妆泪/红/阑干\n",
      "Poem #3\n",
      "剑外/忽/传收/蓟北/，/初闻/涕泪/满/衣裳/。\n",
      "却/看/妻子/愁/何在/，/漫卷/诗书/喜欲狂/。\n",
      "白日/放歌/须/纵酒/，/青春/作伴/好/还乡/。\n",
      "即/从/巴峡/穿/巫峡/，/便/下/襄阳/向/洛阳/。\n",
      "Poem #4\n",
      "明月/几时/有/，/把酒/问青天/。\n",
      "不知/天上/宫阙/，/今夕/是/何年/。\n",
      "我/欲/乘风/归去/，/又/恐/琼楼玉宇/，/高处不胜/寒/。\n",
      "起舞/弄清/影/，/何似/在/人间/。\n",
      "转朱阁/，/低绮户/，/照无眠/。\n",
      "不/应有/恨/，/何事/长向/别时圆/。\n",
      "人有/悲欢离合/，/月/有/阴晴圆/缺/，/此事/古难全/。\n",
      "但愿人长久/，/千里/共/婵娟/。\n"
     ]
    }
   ],
   "source": [
    "run_test_1()"
   ]
  },
  {
   "cell_type": "markdown",
   "metadata": {},
   "source": [
    "接下来我的想法是，先根据五字句的前两个字和七字句的前四个字构建词典，然后以此作为分词词典对整句进行分词。\n",
    "\n",
    "我用了全唐诗和全宋诗作为数据集来构建词典。经测试，比只使用全唐诗更加精确。"
   ]
  },
  {
   "cell_type": "code",
   "execution_count": 5,
   "metadata": {},
   "outputs": [],
   "source": [
    "poems = []\n",
    "file_list = os.listdir(POEM_DIR)\n",
    "for file in file_list:\n",
    "    if file.startswith('poet.'):\n",
    "        poems.append(pd.read_json(f'{POEM_DIR}{file}'))\n",
    "poem_df = pd.concat(poems, ignore_index=True)"
   ]
  },
  {
   "cell_type": "code",
   "execution_count": 6,
   "metadata": {},
   "outputs": [],
   "source": [
    "def cut_lines(poem):\n",
    "    lines = []\n",
    "    pattern = r',|\\.|/|;|\\'|`|\\[|\\]|<|>|\\?|:|\"|\\{|\\}|\\~|!|@|#|\\$|%|\\^|&|\\(|\\)|-|=|\\_|\\+|，|。|、|；|‘|’|【|】|·|！| |…|（|）'\n",
    "    for pairs in poem:\n",
    "        lines.extend(list(filter(lambda x: len(x) > 0, re.split(pattern, pairs))))\n",
    "    return lines"
   ]
  },
  {
   "cell_type": "code",
   "execution_count": 7,
   "metadata": {},
   "outputs": [],
   "source": [
    "poem_df['lines'] = poem_df['paragraphs'].apply(cut_lines)"
   ]
  },
  {
   "cell_type": "code",
   "execution_count": 8,
   "metadata": {},
   "outputs": [],
   "source": [
    "def first_segment(lines):\n",
    "    words = []\n",
    "    for line in lines:\n",
    "        if len(line) == 5: \n",
    "            words.append(line[0:2])\n",
    "        if len(line) == 7: \n",
    "            words.append(line[0:2])\n",
    "            words.append(line[2:4])\n",
    "    return words"
   ]
  },
  {
   "cell_type": "code",
   "execution_count": 9,
   "metadata": {},
   "outputs": [],
   "source": [
    "poem_df['dic'] = poem_df['lines'].apply(first_segment)"
   ]
  },
  {
   "cell_type": "code",
   "execution_count": 10,
   "metadata": {},
   "outputs": [],
   "source": [
    "word_freq = dict()\n",
    "\n",
    "dictionary = [item for sublist in poem_df['dic'] for item in sublist]\n",
    "for i in dictionary:\n",
    "    word_freq[i] = word_freq.get(i, 0) + 1\n",
    "\n",
    "word_freq = {key:val for key, val in word_freq.items() if val >= 3}\n",
    "\n",
    "with open('./poem_dict.txt', 'w', encoding='utf-8') as f:\n",
    "    for k, v in word_freq.items():\n",
    "        f.write(f'{k} {v}\\n')\n",
    "\n",
    "jieba.set_dictionary('./poem_dict.txt')"
   ]
  },
  {
   "cell_type": "markdown",
   "metadata": {},
   "source": [
    "测试目前词典的分词效果。可见之前使用原始词典分错的地方都能分对，但是也添加了几处错误：\n",
    "+ /梦啼妆泪/红/阑/干\n",
    "+ /初闻涕/泪满/衣裳/\n",
    "+ 我欲/乘风/归/去/\n",
    "\n",
    "但是目前我们只关心唐诗的五字句和七字句的后三个字的分词，所以可以认为效果明显变好，毕竟“雄/帝宅”，“任/舟檝”，“無/町畦”等都能分对。"
   ]
  },
  {
   "cell_type": "code",
   "execution_count": 11,
   "metadata": {},
   "outputs": [
    {
     "name": "stderr",
     "output_type": "stream",
     "text": [
      "Building prefix dict from E:\\MA2\\DH-412\\project-local\\poem_dict.txt ...\n"
     ]
    },
    {
     "name": "stdout",
     "output_type": "stream",
     "text": [
      "Poem #1\n"
     ]
    },
    {
     "name": "stderr",
     "output_type": "stream",
     "text": [
      "Dumping model to file cache C:\\Users\\30561\\AppData\\Local\\Temp\\jieba.u53ba07b57d0a1d675a3fbbe9e1a833d8.cache\n",
      "Loading model cost 0.274 seconds.\n",
      "Prefix dict has been built successfully.\n"
     ]
    },
    {
     "name": "stdout",
     "output_type": "stream",
     "text": [
      "秦川/雄/帝宅/，/函谷/壯/皇居/。\n",
      "綺/殿/千尋/起/，/離宮/百雉/餘/。\n",
      "連甍/遙接漢/，/飛觀/迥/凌虛/。\n",
      "雲日/隱層/闕/，/風煙/出/綺疎/。\n",
      "Poem #2\n",
      "遠山/媚/平楚/，/宿雨/漲/清溪/。\n",
      "沿泝/任/舟檝/，/歡言/無/町畦/。\n",
      "夜深/忽梦/少年/事/，/梦啼妆泪/红/阑/干\n",
      "Poem #3\n",
      "剑外/忽/传收/蓟北/，/初闻涕/泪满/衣裳/。\n",
      "却看/妻子/愁/何在/，/漫卷/诗书/喜欲狂/。\n",
      "白日/放歌/须/纵酒/，/青春/作伴/好/还/乡/。\n",
      "即/从/巴峡/穿/巫峡/，/便下/襄阳/向/洛阳/。\n",
      "Poem #4\n",
      "明月/几时/有/，/把酒/问/青天/。\n",
      "不知/天上/宫阙/，/今夕/是何/年/。\n",
      "我欲/乘风/归/去/，/又恐/琼楼/玉宇/，/高处/不胜寒/。\n",
      "起舞/弄/清影/，/何似/在人/间/。\n",
      "转朱阁/，/低绮户/，/照无眠/。\n",
      "不应/有恨/，/何事/长向别/时/圆/。\n",
      "人有/悲欢/离合/，/月有/阴晴/圆缺/，/此事/古难全/。\n",
      "但愿/人长/久/，/千里/共婵娟/。\n"
     ]
    }
   ],
   "source": [
    "run_test_1()"
   ]
  },
  {
   "cell_type": "markdown",
   "metadata": {},
   "source": [
    "之后根据词典对后三个字再次进行分词，并据此扩充词典："
   ]
  },
  {
   "cell_type": "code",
   "execution_count": 12,
   "metadata": {},
   "outputs": [],
   "source": [
    "def addition_segment(phrase):\n",
    "    result = jieba.lcut(phrase, cut_all=False)     \n",
    "    if len(result) != 2:\n",
    "        return phrase\n",
    "    if len(result[0]) == 2:\n",
    "        return result[0]\n",
    "    return result[1]\n",
    "\n",
    "def second_segment(lines):\n",
    "    words = []\n",
    "    for line in lines:\n",
    "        if len(line) == 5:\n",
    "            words.append(line[0:2])\n",
    "            words.append(addition_segment(line[2:]))\n",
    "        if len(line) == 7:\n",
    "            words.append(line[0:2])\n",
    "            words.append(line[2:4])\n",
    "            words.append(addition_segment(line[4:]))\n",
    "    return words"
   ]
  },
  {
   "cell_type": "code",
   "execution_count": 13,
   "metadata": {},
   "outputs": [],
   "source": [
    "poem_df['dic_total'] = poem_df['lines'].apply(second_segment)"
   ]
  },
  {
   "cell_type": "code",
   "execution_count": 14,
   "metadata": {},
   "outputs": [],
   "source": [
    "word_freq = dict()\n",
    "dictionary = [item for sublist in poem_df['dic_total'] for item in sublist]\n",
    "for i in dictionary:\n",
    "    word_freq[i] = word_freq.get(i, 0) + 1\n",
    "\n",
    "word_freq = {key:val for key, val in word_freq.items() if val >= 3}\n",
    "\n",
    "with open('./whole_poem_dict.txt', 'w', encoding='utf-8') as f:\n",
    "    for k, v in word_freq.items():\n",
    "        f.write(f'{k} {v}\\n')\n",
    "\n",
    "jieba.set_dictionary('./whole_poem_dict.txt')"
   ]
  },
  {
   "cell_type": "markdown",
   "metadata": {},
   "source": [
    "第二次的分词效果如下，可见效果再次变好，我觉得和上次的分词效果相当，虽然修正了“初闻/涕泪/满/衣裳”，但是“却看/妻子/愁何/在”又分错了。"
   ]
  },
  {
   "cell_type": "code",
   "execution_count": 15,
   "metadata": {},
   "outputs": [
    {
     "name": "stderr",
     "output_type": "stream",
     "text": [
      "Building prefix dict from E:\\MA2\\DH-412\\project-local\\whole_poem_dict.txt ...\n"
     ]
    },
    {
     "name": "stdout",
     "output_type": "stream",
     "text": [
      "Poem #1\n"
     ]
    },
    {
     "name": "stderr",
     "output_type": "stream",
     "text": [
      "Dumping model to file cache C:\\Users\\30561\\AppData\\Local\\Temp\\jieba.uea27f0f562c78c0d2f19290727d1303d.cache\n",
      "Loading model cost 0.343 seconds.\n",
      "Prefix dict has been built successfully.\n"
     ]
    },
    {
     "name": "stdout",
     "output_type": "stream",
     "text": [
      "秦川/雄/帝宅/，/函谷/壯/皇居/。\n",
      "綺/殿/千尋/起/，/離宮/百雉/餘/。\n",
      "連甍/遙接漢/，/飛觀/迥/凌虛/。\n",
      "雲日/隱層/闕/，/風煙/出/綺疎/。\n",
      "Poem #2\n",
      "遠山/媚/平楚/，/宿雨/漲/清溪/。\n",
      "沿泝/任/舟檝/，/歡言/無/町畦/。\n",
      "夜深/忽梦/少年/事/，/梦啼妆泪/红/阑/干\n",
      "Poem #3\n",
      "剑外/忽/传收/蓟北/，/初闻/涕泪/满/衣裳/。\n",
      "却看/妻子/愁何/在/，/漫卷/诗书/喜欲狂/。\n",
      "白日/放歌/须/纵酒/，/青春/作伴/好/还/乡/。\n",
      "即/从/巴峡/穿/巫峡/，/便下/襄阳/向/洛阳/。\n",
      "Poem #4\n",
      "明月/几时/有/，/把酒/问/青天/。\n",
      "不知/天上/宫阙/，/今夕/是何/年/。\n",
      "我欲/乘风/归/去/，/又恐/琼楼/玉宇/，/高处/不胜寒/。\n",
      "起舞/弄/清影/，/何似/在人/间/。\n",
      "转朱阁/，/低绮户/，/照无眠/。\n",
      "不应/有恨/，/何事/长向别/时/圆/。\n",
      "人有/悲欢/离合/，/月有/阴晴/圆缺/，/此事/古难全/。\n",
      "但愿/人长/久/，/千里/共婵娟/。\n"
     ]
    }
   ],
   "source": [
    "run_test_1()"
   ]
  },
  {
   "cell_type": "markdown",
   "metadata": {},
   "source": [
    "总结，jieba分词很有问题，词典中单词的频率并不能有效改善分词结果。比如在自定义的词典中，明明没有“愁何”，而且“何在”出现了很多次，但jieba仍然分成了“愁何/在”。\n",
    "\n",
    "jieba的这个问题已经讨论了好几年了：\n",
    "https://github.com/fxsjy/jieba/issues/14"
   ]
  },
  {
   "cell_type": "markdown",
   "metadata": {},
   "source": [
    "## 宋词"
   ]
  },
  {
   "cell_type": "markdown",
   "metadata": {},
   "source": [
    "我本想人工划分意向，但有些名句出现得太例外：\n",
    "+ 六字句通常划分方式各异，最常见的为222式，但有的名句与众不同：七八个星天外，两三点雨山前。\n",
    "+ “满江红”此句与别句的划分方式都不同：“驾长车，踏破贺兰山缺”，加之“贺兰山”是地名，故最好不要人工划分。\n",
    "\n",
    "所以只能重回之前用的套路，先提取五字句中的前两个字和七字句中的前四字扩充词典，再根据扩充后的词典分词。"
   ]
  },
  {
   "cell_type": "code",
   "execution_count": 16,
   "metadata": {},
   "outputs": [
    {
     "data": {
      "text/html": [
       "<div>\n",
       "<style scoped>\n",
       "    .dataframe tbody tr th:only-of-type {\n",
       "        vertical-align: middle;\n",
       "    }\n",
       "\n",
       "    .dataframe tbody tr th {\n",
       "        vertical-align: top;\n",
       "    }\n",
       "\n",
       "    .dataframe thead th {\n",
       "        text-align: right;\n",
       "    }\n",
       "</style>\n",
       "<table border=\"1\" class=\"dataframe\">\n",
       "  <thead>\n",
       "    <tr style=\"text-align: right;\">\n",
       "      <th></th>\n",
       "      <th>author</th>\n",
       "      <th>paragraphs</th>\n",
       "      <th>rhythmic</th>\n",
       "      <th>tags</th>\n",
       "      <th>prologue</th>\n",
       "    </tr>\n",
       "  </thead>\n",
       "  <tbody>\n",
       "    <tr>\n",
       "      <th>0</th>\n",
       "      <td>和岘</td>\n",
       "      <td>[气和玉烛，睿化著鸿明。, 缇管一阳生。, 郊禋盛礼燔柴毕，旋轸凤凰城。, 森罗仪卫振华缨。...</td>\n",
       "      <td>导引</td>\n",
       "      <td>NaN</td>\n",
       "      <td>NaN</td>\n",
       "    </tr>\n",
       "    <tr>\n",
       "      <th>1</th>\n",
       "      <td>和岘</td>\n",
       "      <td>[严夜警，铜莲漏迟迟。, 清禁肃，森陛戟，羽卫俨皇闱。, 角声励，钲鼓攸宜。, 金管成雅奏，...</td>\n",
       "      <td>六州</td>\n",
       "      <td>NaN</td>\n",
       "      <td>NaN</td>\n",
       "    </tr>\n",
       "    <tr>\n",
       "      <th>2</th>\n",
       "      <td>和岘</td>\n",
       "      <td>[承宝运，驯致隆平。, 鸿庆被寰瀛。, 时清俗阜，治定功成。, 遐迩咏由庚。, 严郊祀，文物...</td>\n",
       "      <td>十二时・忆少年</td>\n",
       "      <td>NaN</td>\n",
       "      <td>NaN</td>\n",
       "    </tr>\n",
       "    <tr>\n",
       "      <th>3</th>\n",
       "      <td>王禹</td>\n",
       "      <td>[雨恨云愁，江南依旧称佳丽。, 水村渔市。, 一缕孤烟细。, 天际征鸿，遥认行如缀。, 平生...</td>\n",
       "      <td>点绛唇</td>\n",
       "      <td>NaN</td>\n",
       "      <td>NaN</td>\n",
       "    </tr>\n",
       "    <tr>\n",
       "      <th>4</th>\n",
       "      <td>苏易简</td>\n",
       "      <td>[神仙神仙瑶池宴。, 片片。, 碧桃零落春风晚。, 翠云开处，隐隐金舆挽。, 玉麟背冷清风远。]</td>\n",
       "      <td>越江吟</td>\n",
       "      <td>NaN</td>\n",
       "      <td>NaN</td>\n",
       "    </tr>\n",
       "    <tr>\n",
       "      <th>...</th>\n",
       "      <td>...</td>\n",
       "      <td>...</td>\n",
       "      <td>...</td>\n",
       "      <td>...</td>\n",
       "      <td>...</td>\n",
       "    </tr>\n",
       "    <tr>\n",
       "      <th>21048</th>\n",
       "      <td>范成大</td>\n",
       "      <td>[催下珠帘护绮丛。, 花枝红里烛枝红。, 烛光花影夜葱茏。, 锦地绣天香雾里，珠星璧月彩云中...</td>\n",
       "      <td>浣溪沙</td>\n",
       "      <td>NaN</td>\n",
       "      <td>NaN</td>\n",
       "    </tr>\n",
       "    <tr>\n",
       "      <th>21049</th>\n",
       "      <td>范成大</td>\n",
       "      <td>[送尽残春更出游。, 风前踪迹似沙鸥。, 浅斟低唱小淹留。, 月见西楼清夜醉，雨添南浦绿波愁...</td>\n",
       "      <td>浣溪沙</td>\n",
       "      <td>NaN</td>\n",
       "      <td>NaN</td>\n",
       "    </tr>\n",
       "    <tr>\n",
       "      <th>21050</th>\n",
       "      <td>范成大</td>\n",
       "      <td>[歙浦钱塘一水通。, 闲云如幕碧重重。, 吴山应在碧云东。, 无力海棠风淡荡，半眠官柳日葱茏...</td>\n",
       "      <td>浣溪沙</td>\n",
       "      <td>NaN</td>\n",
       "      <td>NaN</td>\n",
       "    </tr>\n",
       "    <tr>\n",
       "      <th>21051</th>\n",
       "      <td>范成大</td>\n",
       "      <td>[宝髻双双出绮丛。, 妆光梅影各春风。, 收灯时候却相逢。, 鱼子笺中此宛转，龙香拨上语玲珑...</td>\n",
       "      <td>浣溪沙</td>\n",
       "      <td>NaN</td>\n",
       "      <td>NaN</td>\n",
       "    </tr>\n",
       "    <tr>\n",
       "      <th>21052</th>\n",
       "      <td>范成大</td>\n",
       "      <td>[红锦障泥杏叶鞯。, 解鞍呼渡忆当年。, 马骄不肯上航船。, 茅店竹篱开席市，绛裙青袂斸姜田...</td>\n",
       "      <td>浣溪沙</td>\n",
       "      <td>NaN</td>\n",
       "      <td>NaN</td>\n",
       "    </tr>\n",
       "  </tbody>\n",
       "</table>\n",
       "<p>21053 rows × 5 columns</p>\n",
       "</div>"
      ],
      "text/plain": [
       "      author                                         paragraphs rhythmic tags  \\\n",
       "0         和岘  [气和玉烛，睿化著鸿明。, 缇管一阳生。, 郊禋盛礼燔柴毕，旋轸凤凰城。, 森罗仪卫振华缨。...       导引  NaN   \n",
       "1         和岘  [严夜警，铜莲漏迟迟。, 清禁肃，森陛戟，羽卫俨皇闱。, 角声励，钲鼓攸宜。, 金管成雅奏，...       六州  NaN   \n",
       "2         和岘  [承宝运，驯致隆平。, 鸿庆被寰瀛。, 时清俗阜，治定功成。, 遐迩咏由庚。, 严郊祀，文物...  十二时・忆少年  NaN   \n",
       "3         王禹  [雨恨云愁，江南依旧称佳丽。, 水村渔市。, 一缕孤烟细。, 天际征鸿，遥认行如缀。, 平生...      点绛唇  NaN   \n",
       "4        苏易简   [神仙神仙瑶池宴。, 片片。, 碧桃零落春风晚。, 翠云开处，隐隐金舆挽。, 玉麟背冷清风远。]      越江吟  NaN   \n",
       "...      ...                                                ...      ...  ...   \n",
       "21048    范成大  [催下珠帘护绮丛。, 花枝红里烛枝红。, 烛光花影夜葱茏。, 锦地绣天香雾里，珠星璧月彩云中...      浣溪沙  NaN   \n",
       "21049    范成大  [送尽残春更出游。, 风前踪迹似沙鸥。, 浅斟低唱小淹留。, 月见西楼清夜醉，雨添南浦绿波愁...      浣溪沙  NaN   \n",
       "21050    范成大  [歙浦钱塘一水通。, 闲云如幕碧重重。, 吴山应在碧云东。, 无力海棠风淡荡，半眠官柳日葱茏...      浣溪沙  NaN   \n",
       "21051    范成大  [宝髻双双出绮丛。, 妆光梅影各春风。, 收灯时候却相逢。, 鱼子笺中此宛转，龙香拨上语玲珑...      浣溪沙  NaN   \n",
       "21052    范成大  [红锦障泥杏叶鞯。, 解鞍呼渡忆当年。, 马骄不肯上航船。, 茅店竹篱开席市，绛裙青袂斸姜田...      浣溪沙  NaN   \n",
       "\n",
       "      prologue  \n",
       "0          NaN  \n",
       "1          NaN  \n",
       "2          NaN  \n",
       "3          NaN  \n",
       "4          NaN  \n",
       "...        ...  \n",
       "21048      NaN  \n",
       "21049      NaN  \n",
       "21050      NaN  \n",
       "21051      NaN  \n",
       "21052      NaN  \n",
       "\n",
       "[21053 rows x 5 columns]"
      ]
     },
     "execution_count": 16,
     "metadata": {},
     "output_type": "execute_result"
    }
   ],
   "source": [
    "lyrics = []\n",
    "file_list = os.listdir(LYRIC_DIR)\n",
    "for file in file_list:\n",
    "    if file.startswith('ci.song'):\n",
    "        lyrics.append(pd.read_json(f'{LYRIC_DIR}{file}'))\n",
    "lyric_df = pd.concat(lyrics, ignore_index=True)\n",
    "lyric_df"
   ]
  },
  {
   "cell_type": "markdown",
   "metadata": {},
   "source": [
    "词牌名概览。出现次数最多的15个词牌名占了宋词的三分之一："
   ]
  },
  {
   "cell_type": "code",
   "execution_count": 17,
   "metadata": {},
   "outputs": [
    {
     "data": {
      "text/html": [
       "<div>\n",
       "<style scoped>\n",
       "    .dataframe tbody tr th:only-of-type {\n",
       "        vertical-align: middle;\n",
       "    }\n",
       "\n",
       "    .dataframe tbody tr th {\n",
       "        vertical-align: top;\n",
       "    }\n",
       "\n",
       "    .dataframe thead th {\n",
       "        text-align: right;\n",
       "    }\n",
       "</style>\n",
       "<table border=\"1\" class=\"dataframe\">\n",
       "  <thead>\n",
       "    <tr style=\"text-align: right;\">\n",
       "      <th></th>\n",
       "      <th>author</th>\n",
       "      <th>paragraphs</th>\n",
       "      <th>tags</th>\n",
       "      <th>prologue</th>\n",
       "    </tr>\n",
       "    <tr>\n",
       "      <th>rhythmic</th>\n",
       "      <th></th>\n",
       "      <th></th>\n",
       "      <th></th>\n",
       "      <th></th>\n",
       "    </tr>\n",
       "  </thead>\n",
       "  <tbody>\n",
       "    <tr>\n",
       "      <th>浣溪沙</th>\n",
       "      <td>776</td>\n",
       "      <td>776</td>\n",
       "      <td>16</td>\n",
       "      <td>1</td>\n",
       "    </tr>\n",
       "    <tr>\n",
       "      <th>水调歌头</th>\n",
       "      <td>743</td>\n",
       "      <td>743</td>\n",
       "      <td>45</td>\n",
       "      <td>0</td>\n",
       "    </tr>\n",
       "    <tr>\n",
       "      <th>鹧鸪天</th>\n",
       "      <td>657</td>\n",
       "      <td>657</td>\n",
       "      <td>19</td>\n",
       "      <td>0</td>\n",
       "    </tr>\n",
       "    <tr>\n",
       "      <th>菩萨蛮</th>\n",
       "      <td>598</td>\n",
       "      <td>598</td>\n",
       "      <td>9</td>\n",
       "      <td>0</td>\n",
       "    </tr>\n",
       "    <tr>\n",
       "      <th>满江红</th>\n",
       "      <td>549</td>\n",
       "      <td>549</td>\n",
       "      <td>30</td>\n",
       "      <td>0</td>\n",
       "    </tr>\n",
       "    <tr>\n",
       "      <th>西江月</th>\n",
       "      <td>490</td>\n",
       "      <td>490</td>\n",
       "      <td>7</td>\n",
       "      <td>2</td>\n",
       "    </tr>\n",
       "    <tr>\n",
       "      <th>临江仙</th>\n",
       "      <td>482</td>\n",
       "      <td>482</td>\n",
       "      <td>13</td>\n",
       "      <td>0</td>\n",
       "    </tr>\n",
       "    <tr>\n",
       "      <th>念奴娇</th>\n",
       "      <td>432</td>\n",
       "      <td>432</td>\n",
       "      <td>28</td>\n",
       "      <td>0</td>\n",
       "    </tr>\n",
       "    <tr>\n",
       "      <th>减字木兰花</th>\n",
       "      <td>425</td>\n",
       "      <td>425</td>\n",
       "      <td>4</td>\n",
       "      <td>0</td>\n",
       "    </tr>\n",
       "    <tr>\n",
       "      <th>沁园春</th>\n",
       "      <td>423</td>\n",
       "      <td>423</td>\n",
       "      <td>28</td>\n",
       "      <td>0</td>\n",
       "    </tr>\n",
       "    <tr>\n",
       "      <th>蝶恋花</th>\n",
       "      <td>416</td>\n",
       "      <td>416</td>\n",
       "      <td>16</td>\n",
       "      <td>0</td>\n",
       "    </tr>\n",
       "    <tr>\n",
       "      <th>点绛唇</th>\n",
       "      <td>390</td>\n",
       "      <td>390</td>\n",
       "      <td>7</td>\n",
       "      <td>2</td>\n",
       "    </tr>\n",
       "    <tr>\n",
       "      <th>失调名</th>\n",
       "      <td>372</td>\n",
       "      <td>372</td>\n",
       "      <td>3</td>\n",
       "      <td>0</td>\n",
       "    </tr>\n",
       "    <tr>\n",
       "      <th>贺新郎</th>\n",
       "      <td>361</td>\n",
       "      <td>361</td>\n",
       "      <td>37</td>\n",
       "      <td>0</td>\n",
       "    </tr>\n",
       "    <tr>\n",
       "      <th>清平乐</th>\n",
       "      <td>356</td>\n",
       "      <td>356</td>\n",
       "      <td>8</td>\n",
       "      <td>0</td>\n",
       "    </tr>\n",
       "  </tbody>\n",
       "</table>\n",
       "</div>"
      ],
      "text/plain": [
       "          author  paragraphs  tags  prologue\n",
       "rhythmic                                    \n",
       "浣溪沙          776         776    16         1\n",
       "水调歌头         743         743    45         0\n",
       "鹧鸪天          657         657    19         0\n",
       "菩萨蛮          598         598     9         0\n",
       "满江红          549         549    30         0\n",
       "西江月          490         490     7         2\n",
       "临江仙          482         482    13         0\n",
       "念奴娇          432         432    28         0\n",
       "减字木兰花        425         425     4         0\n",
       "沁园春          423         423    28         0\n",
       "蝶恋花          416         416    16         0\n",
       "点绛唇          390         390     7         2\n",
       "失调名          372         372     3         0\n",
       "贺新郎          361         361    37         0\n",
       "清平乐          356         356     8         0"
      ]
     },
     "execution_count": 17,
     "metadata": {},
     "output_type": "execute_result"
    }
   ],
   "source": [
    "rhythm_df = lyric_df.groupby(['rhythmic']).count()\n",
    "rhythm_df.sort_values(by='paragraphs', ascending=False).head(15)"
   ]
  },
  {
   "cell_type": "code",
   "execution_count": 18,
   "metadata": {},
   "outputs": [],
   "source": [
    "lyric_df['lines'] = lyric_df['paragraphs'].apply(cut_lines)"
   ]
  },
  {
   "cell_type": "code",
   "execution_count": 19,
   "metadata": {},
   "outputs": [
    {
     "data": {
      "text/plain": [
       "0        [睿化, 缇管, 郊禋, 盛礼, 旋轸, 森罗, 仪卫, 载路, 皇图, 大业, 垂象, 九...\n",
       "1                         [铜莲, 羽卫, 金管, 属景, 盛德, 三秀, 合尧, 蹈咏]\n",
       "2        [鸿庆, 遐迩, 星拱, 布羽, 明德, 神降, 万乘, 肃銮, 玉帛, 皇泽, 普率, 睿...\n",
       "3                                     [江南, 依旧, 一缕, 遥认, 谁会]\n",
       "4                             [神仙, 神仙, 碧桃, 零落, 隐隐, 玉麟, 背冷]\n",
       "                               ...                        \n",
       "21048     [催下, 珠帘, 花枝, 红里, 烛光, 花影, 锦地, 绣天, 珠星, 璧月, 人间, 别有]\n",
       "21049     [送尽, 残春, 风前, 踪迹, 浅斟, 低唱, 月见, 西楼, 雨添, 南浦, 有人, 无计]\n",
       "21050     [歙浦, 钱塘, 闲云, 如幕, 吴山, 应在, 无力, 海棠, 半眠, 官柳, 眼前, 春色]\n",
       "21051     [宝髻, 双双, 妆光, 梅影, 收灯, 时候, 鱼子, 笺中, 龙香, 拨上, 明朝, 车马]\n",
       "21052     [红锦, 障泥, 解鞍, 呼渡, 马骄, 不肯, 茅店, 竹篱, 绛裙, 青袂, 临平, 风物]\n",
       "Name: dic, Length: 21053, dtype: object"
      ]
     },
     "execution_count": 19,
     "metadata": {},
     "output_type": "execute_result"
    }
   ],
   "source": [
    "lyric_df['dic'] = lyric_df['lines'].apply(first_segment)\n",
    "lyric_df['dic']"
   ]
  },
  {
   "cell_type": "code",
   "execution_count": 20,
   "metadata": {},
   "outputs": [
    {
     "name": "stdout",
     "output_type": "stream",
     "text": [
      "544327\n",
      "165083\n"
     ]
    }
   ],
   "source": [
    "word_freq = dict()\n",
    "dictionary = [item for sublist in poem_df['dic'] for item in sublist]\n",
    "lyric_dictionary = [item for sublist in lyric_df['dic'] for item in sublist]\n",
    "dictionary.extend(lyric_dictionary)\n",
    "for i in dictionary:\n",
    "    word_freq[i] = word_freq.get(i, 0) + 1\n",
    "\n",
    "print(len(word_freq))\n",
    "word_freq = {key:val for key, val in word_freq.items() if val >= 3}\n",
    "print(len(word_freq))\n",
    "    \n",
    "with open('./lyric_dict.txt', 'w', encoding='utf-8') as f:\n",
    "    for k, v in word_freq.items():\n",
    "        f.write(f'{k} {v * 100}\\n')\n",
    "\n",
    "jieba.set_dictionary('./lyric_dict.txt')"
   ]
  },
  {
   "cell_type": "code",
   "execution_count": 21,
   "metadata": {},
   "outputs": [
    {
     "name": "stderr",
     "output_type": "stream",
     "text": [
      "Building prefix dict from E:\\MA2\\DH-412\\project-local\\lyric_dict.txt ...\n",
      "Dumping model to file cache C:\\Users\\30561\\AppData\\Local\\Temp\\jieba.uad4ccb26c07432c8ccc88f552723303f.cache\n",
      "Loading model cost 0.291 seconds.\n",
      "Prefix dict has been built successfully.\n"
     ]
    }
   ],
   "source": [
    "lyric_df['dic_total'] = lyric_df['lines'].apply(second_segment)"
   ]
  },
  {
   "cell_type": "code",
   "execution_count": 22,
   "metadata": {},
   "outputs": [
    {
     "name": "stdout",
     "output_type": "stream",
     "text": [
      "Poem #1\n",
      "秦川/雄/帝宅/，/函谷/壯/皇居/。\n",
      "綺/殿/千尋/起/，/離宮/百雉/餘/。\n",
      "連甍/遙接漢/，/飛觀/迥/凌虛/。\n",
      "雲日/隱層/闕/，/風煙/出/綺疎/。\n",
      "Poem #2\n",
      "遠山/媚/平楚/，/宿雨/漲/清溪/。\n",
      "沿泝/任/舟檝/，/歡言/無/町畦/。\n",
      "夜深/忽梦/少年/事/，/梦/啼妆/泪红/阑干\n",
      "Poem #3\n",
      "剑外/忽/传收/蓟北/，/初闻/涕泪/满/衣裳/。\n",
      "却看/妻子/愁/何在/，/漫卷/诗书/喜欲狂/。\n",
      "白日/放歌/须/纵酒/，/青春/作伴/好/还/乡/。\n",
      "即/从/巴峡/穿/巫峡/，/便下/襄阳/向/洛阳/。\n",
      "Poem #4\n",
      "明月/几时/有/，/把酒/问/青天/。\n",
      "不知/天上/宫阙/，/今夕/是何/年/。\n",
      "我欲/乘风/归去/，/又恐/琼楼/玉宇/，/高处/不胜/寒/。\n",
      "起舞/弄/清影/，/何似/在人/间/。\n",
      "转/朱阁/，/低绮户/，/照/无眠/。\n",
      "不应/有恨/，/何事/长向/别时/圆/。\n",
      "人有/悲欢/离合/，/月有/阴晴/圆缺/，/此事/古难全/。\n",
      "但愿/人长/久/，/千里/共/婵娟/。\n"
     ]
    }
   ],
   "source": [
    "run_test_1()"
   ]
  },
  {
   "cell_type": "markdown",
   "metadata": {},
   "source": [
    "最后一次分词的结果。“却看/妻子/愁/何在”终于分对了，虽然“梦/啼妆/泪红/阑干”分错，但是我们只关心对后三个字的分词，所以无伤大雅。最关键的是，“转/朱阁”终于分出来了，“千里/共/婵娟”的“婵娟”也分出来了。但是上述几个分词词典都没正确地分出“但愿/人长/久”，我看字典里没有“长久”和“人长”，所以我认为是它随便分了。"
   ]
  },
  {
   "cell_type": "markdown",
   "metadata": {},
   "source": [
    "总结一下我的想法：\n",
    "\n",
    "假设：五字句AABBB的前两个字AA，七字句AABBCCC的前四个字AA和BB，统一视为可以直接提取出来的“好意象”。当然这个规律也有例外，但是我只找到白居易的“家在虾蟆陵下住”这一个反例，我觉得只是因为白居易本来就专门写通俗化口语化的诗。后三个字的分法大相径庭，所以需要借助分词工具。\n",
    "\n",
    "做法：\n",
    "1. 先用唐诗和宋诗的“好意象”构建词典，然后用得到的词典对五字句AABBB的后三个字BBB，七字句AABBCCC的后三个字CCC分词。用对BBB和CCC的分词结果扩充词典。\n",
    "2. 唐诗的分词完成。分词结果就是好意象+后三个字的分词。\n",
    "3. 用宋词里的五字句的和七字句的“好意象”扩充词典，对宋词其他句式进行分词，\n",
    "4. 宋词的分词完成。分词结果就是：\n",
    "        对于五字句和七字句：好意象+后三个字的分词；\n",
    "        对于其他句式：整句的分词结果"
   ]
  },
  {
   "cell_type": "code",
   "execution_count": 23,
   "metadata": {},
   "outputs": [],
   "source": [
    "poems = []\n",
    "file_list = os.listdir(POEM_DIR)\n",
    "for file in file_list:\n",
    "    if file.startswith('poet.tang'):\n",
    "        poems.append(pd.read_json(f'{POEM_DIR}{file}'))\n",
    "tang_df = pd.concat(poems, ignore_index=True)\n",
    "tang_df['lines'] = poem_df['lines']\n",
    "tang_df['dic_total'] = poem_df['dic_total']\n",
    "song_df = lyric_df"
   ]
  },
  {
   "cell_type": "markdown",
   "metadata": {},
   "source": [
    "总之，目前可以使用poem_df['dic_total']和song_df['dic_total']来看唐诗和宋词的分词结果："
   ]
  },
  {
   "cell_type": "code",
   "execution_count": 24,
   "metadata": {},
   "outputs": [
    {
     "data": {
      "text/plain": [
       "0        [欲出, 未出, 光辣達, 千山, 萬山, 如火, 須臾, 走向, 天上, 逐却, 殘星, 却月]\n",
       "1                                 [未離, 海底, 千山, 纔到, 天中, 萬國]\n",
       "2        [滿目, 江山, 四望, 白雲, 高卷, 烟收, 日回, 禽影, 疏木, 風遞, 猿聲, 小...\n",
       "3        [片片, 飛來, 靜又閑, 樓頭, 江上, 山前, 飄零, 盡日, 不歸, 帖破, 清光, 萬里]\n",
       "4        [因登, 巨石, 知來, 勃勃, 元生, 綠蘚, 靜即, 等閑, 草木, 動時, 頃刻, 乾...\n",
       "                               ...                        \n",
       "57607    [六花, 隨表, 東廂, 庭下, 遥呼, 萬歲, 王會, 圖中, 璧馬, 漢官, 儀裏, 旂...\n",
       "57608    [近臣, 頭上, 黄金, 殿前, 拜賜, 東風, 蓼牙, 疏甲, 春盤, 肉抹, 長絲, 何...\n",
       "57609    [一歲, 一歲, 新年, 思舊, 東樓, 共望, 九陌, 爭先, 白髮, 更中笑, 舞姝, ...\n",
       "57610    [日本, 大刀, 青熒, 魚皮, 帖欛, 沙點星, 東胡, 腰鞘, 滄海, 舶帆, 落越, ...\n",
       "57611    [東都, 車馬, 苦飛, 南國, 桅帆, 喜過, 船背, 插旗, 風自, 沙頭, 迎浪, 相...\n",
       "Name: dic_total, Length: 57612, dtype: object"
      ]
     },
     "execution_count": 24,
     "metadata": {},
     "output_type": "execute_result"
    }
   ],
   "source": [
    "tang_df['dic_total']"
   ]
  },
  {
   "cell_type": "code",
   "execution_count": 25,
   "metadata": {},
   "outputs": [
    {
     "data": {
      "text/plain": [
       "0        [睿化, 著鸿明, 缇管, 一阳, 郊禋, 盛礼, 燔柴, 旋轸, 凤凰, 森罗, 仪卫, ...\n",
       "1        [铜莲, 迟迟, 羽卫, 俨皇闱, 金管, 雅奏, 属景, 运纯禧, 盛德, 服蛮, 三秀,...\n",
       "2        [鸿庆, 寰瀛, 遐迩, 由庚, 星拱, 奏严, 布羽, 簪缨, 明德, 惟馨, 神降, 享...\n",
       "3                     [江南, 依旧, 佳丽, 一缕, 孤烟, 遥认, 行如, 谁会, 凭阑]\n",
       "4             [神仙, 神仙, 瑶池, 碧桃, 零落, 春风, 隐隐, 金舆, 玉麟, 背冷, 清风]\n",
       "                               ...                        \n",
       "21048    [催下, 珠帘, 护绮丛, 花枝, 红里, 烛枝, 烛光, 花影, 夜葱, 锦地, 绣天, ...\n",
       "21049    [送尽, 残春, 更出, 风前, 踪迹, 沙鸥, 浅斟, 低唱, 小淹, 月见, 西楼, 清...\n",
       "21050    [歙浦, 钱塘, 一水, 闲云, 如幕, 重重, 吴山, 应在, 碧云, 无力, 海棠, 淡...\n",
       "21051    [宝髻, 双双, 出绮丛, 妆光, 梅影, 春风, 收灯, 时候, 相逢, 鱼子, 笺中, ...\n",
       "21052    [红锦, 障泥, 杏叶, 解鞍, 呼渡, 忆当, 马骄, 不肯, 航船, 茅店, 竹篱, 开...\n",
       "Name: dic_total, Length: 21053, dtype: object"
      ]
     },
     "execution_count": 25,
     "metadata": {},
     "output_type": "execute_result"
    }
   ],
   "source": [
    "song_df['dic_total']"
   ]
  },
  {
   "cell_type": "code",
   "execution_count": null,
   "metadata": {},
   "outputs": [],
   "source": []
  }
 ],
 "metadata": {
  "kernelspec": {
   "display_name": "Python [conda env:ada]",
   "language": "python",
   "name": "conda-env-ada-py"
  },
  "language_info": {
   "codemirror_mode": {
    "name": "ipython",
    "version": 3
   },
   "file_extension": ".py",
   "mimetype": "text/x-python",
   "name": "python",
   "nbconvert_exporter": "python",
   "pygments_lexer": "ipython3",
   "version": "3.8.5"
  }
 },
 "nbformat": 4,
 "nbformat_minor": 4
}
