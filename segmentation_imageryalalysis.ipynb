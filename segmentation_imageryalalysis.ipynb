{
 "cells": [
  {
   "cell_type": "markdown",
   "metadata": {},
   "source": [
    "# 分词部分"
   ]
  },
  {
   "cell_type": "code",
   "execution_count": 1,
   "metadata": {
    "tags": []
   },
   "outputs": [],
   "source": [
    "import os \n",
    "import re\n",
    "\n",
    "import jieba\n",
    "import json\n",
    "import pandas as pd"
   ]
  },
  {
   "cell_type": "code",
   "execution_count": 2,
   "metadata": {},
   "outputs": [],
   "source": [
    "### ONLY FOR TEST\n",
    "def test_segmentation(poem, user_dict=None):   \n",
    "    for s in poem:\n",
    "        seg_list = jieba.cut(s, cut_all=False)  \n",
    "        print('/'.join(list(seg_list)))\n",
    "        \n",
    "def run_test_1(user_dict=None):\n",
    "    poem = ['秦川雄帝宅，函谷壯皇居。', '綺殿千尋起，離宮百雉餘。', '連甍遙接漢，飛觀迥凌虛。', '雲日隱層闕，風煙出綺疎。']\n",
    "    print('Poem #1')\n",
    "    test_segmentation(poem, user_dict)\n",
    "    \n",
    "    poem = ['遠山媚平楚，宿雨漲清溪。', '沿泝任舟檝，歡言無町畦。', '夜深忽梦少年事，梦啼妆泪红阑干']\n",
    "    print('Poem #2')\n",
    "    test_segmentation(poem, user_dict)\n",
    "    \n",
    "    poem = ['剑外忽传收蓟北，初闻涕泪满衣裳。',\n",
    "            '却看妻子愁何在，漫卷诗书喜欲狂。',\n",
    "            '白日放歌须纵酒，青春作伴好还乡。',\n",
    "            '即从巴峡穿巫峡，便下襄阳向洛阳。']\n",
    "    print('Poem #3')\n",
    "    test_segmentation(poem, user_dict)\n",
    "    \n",
    "    poem = ['明月几时有，把酒问青天。', '不知天上宫阙，今夕是何年。', '我欲乘风归去，又恐琼楼玉宇，高处不胜寒。', '起舞弄清影，何似在人间。',\n",
    "              '转朱阁，低绮户，照无眠。', '不应有恨，何事长向别时圆。', '人有悲欢离合，月有阴晴圆缺，此事古难全。', '但愿人长久，千里共婵娟。']\n",
    "    print('Poem #4')\n",
    "    test_segmentation(poem, user_dict)"
   ]
  },
  {
   "cell_type": "code",
   "execution_count": 3,
   "metadata": {},
   "outputs": [],
   "source": [
    "LYRIC_DIR = './ci/'\n",
    "POEM_DIR = './json/'"
   ]
  },
  {
   "cell_type": "markdown",
   "metadata": {},
   "source": [
    "## 唐诗"
   ]
  },
  {
   "cell_type": "markdown",
   "metadata": {},
   "source": [
    "先测试一下jieba分词的原始分词功能，以下诗句明显分错：\n",
    "+ 秦川/雄帝/宅/\n",
    "+ 沿/泝/任舟/檝/，/歡言/無/町/畦/\n",
    "+ /月/有/阴晴圆/缺/"
   ]
  },
  {
   "cell_type": "code",
   "execution_count": 4,
   "metadata": {},
   "outputs": [
    {
     "name": "stderr",
     "output_type": "stream",
     "text": [
      "Building prefix dict from the default dictionary ...\n"
     ]
    },
    {
     "name": "stdout",
     "output_type": "stream",
     "text": [
      "Poem #1\n"
     ]
    },
    {
     "name": "stderr",
     "output_type": "stream",
     "text": [
      "Dumping model to file cache C:\\Users\\JUNHONG\\AppData\\Local\\Temp\\jieba.cache\n",
      "Loading model cost 0.615 seconds.\n",
      "Prefix dict has been built successfully.\n"
     ]
    },
    {
     "name": "stdout",
     "output_type": "stream",
     "text": [
      "秦川/雄帝/宅/，/函谷壯/皇居/。\n",
      "綺/殿/千尋起/，/離宮/百雉/餘/。\n",
      "連/甍/遙/接漢/，/飛觀/迥凌虛/。\n",
      "雲日/隱層/闕/，/風煙出/綺/疎/。\n",
      "Poem #2\n",
      "遠山媚/平楚/，/宿雨漲/清溪/。\n",
      "沿/泝/任舟/檝/，/歡言/無/町/畦/。\n",
      "夜深/忽梦/少年/事/，/梦啼妆泪/红/阑干\n",
      "Poem #3\n",
      "剑外/忽/传收/蓟北/，/初闻/涕泪/满/衣裳/。\n",
      "却/看/妻子/愁/何在/，/漫卷/诗书/喜欲狂/。\n",
      "白日/放歌/须/纵酒/，/青春/作伴/好/还乡/。\n",
      "即/从/巴峡/穿/巫峡/，/便/下/襄阳/向/洛阳/。\n",
      "Poem #4\n",
      "明月/几时/有/，/把酒/问青天/。\n",
      "不知/天上/宫阙/，/今夕/是/何年/。\n",
      "我/欲/乘风/归去/，/又/恐/琼楼玉宇/，/高处不胜/寒/。\n",
      "起舞/弄清/影/，/何似/在/人间/。\n",
      "转朱阁/，/低绮户/，/照无眠/。\n",
      "不/应有/恨/，/何事/长向/别时圆/。\n",
      "人有/悲欢离合/，/月/有/阴晴圆/缺/，/此事/古难全/。\n",
      "但愿人长久/，/千里/共/婵娟/。\n"
     ]
    }
   ],
   "source": [
    "run_test_1()"
   ]
  },
  {
   "cell_type": "markdown",
   "metadata": {},
   "source": [
    "接下来我的想法是，先根据五字句的前两个字和七字句的前四个字构建词典，然后以此作为分词词典对整句进行分词。\n",
    "\n",
    "我用了全唐诗和全宋诗作为数据集来构建词典。经测试，比只使用全唐诗更加精确。"
   ]
  },
  {
   "cell_type": "code",
   "execution_count": 5,
   "metadata": {},
   "outputs": [],
   "source": [
    "poems = []\n",
    "file_list = os.listdir(POEM_DIR)\n",
    "for file in file_list:\n",
    "    if file.startswith('poet.'):\n",
    "        poems.append(pd.read_json(f'{POEM_DIR}{file}'))\n",
    "poem_df = pd.concat(poems, ignore_index=True)"
   ]
  },
  {
   "cell_type": "code",
   "execution_count": 6,
   "metadata": {},
   "outputs": [],
   "source": [
    "def cut_lines(poem):\n",
    "    lines = []\n",
    "    pattern = r',|\\.|/|;|\\'|`|\\[|\\]|<|>|\\?|:|\"|\\{|\\}|\\~|!|@|#|\\$|%|\\^|&|\\(|\\)|-|=|\\_|\\+|，|。|、|；|‘|’|【|】|·|！| |…|（|）'\n",
    "    for pairs in poem:\n",
    "        lines.extend(list(filter(lambda x: len(x) > 0, re.split(pattern, pairs))))\n",
    "    return lines"
   ]
  },
  {
   "cell_type": "code",
   "execution_count": 7,
   "metadata": {},
   "outputs": [],
   "source": [
    "poem_df['lines'] = poem_df['paragraphs'].apply(cut_lines)"
   ]
  },
  {
   "cell_type": "code",
   "execution_count": 8,
   "metadata": {},
   "outputs": [],
   "source": [
    "def first_segment(lines):\n",
    "    words = []\n",
    "    for line in lines:\n",
    "        if len(line) == 5: \n",
    "            words.append(line[0:2])\n",
    "        if len(line) == 7: \n",
    "            words.append(line[0:2])\n",
    "            words.append(line[2:4])\n",
    "    return words"
   ]
  },
  {
   "cell_type": "code",
   "execution_count": 9,
   "metadata": {},
   "outputs": [],
   "source": [
    "poem_df['dic'] = poem_df['lines'].apply(first_segment)"
   ]
  },
  {
   "cell_type": "code",
   "execution_count": 10,
   "metadata": {},
   "outputs": [],
   "source": [
    "word_freq = dict()\n",
    "\n",
    "dictionary = [item for sublist in poem_df['dic'] for item in sublist]\n",
    "for i in dictionary:\n",
    "    word_freq[i] = word_freq.get(i, 0) + 1\n",
    "\n",
    "word_freq = {key:val for key, val in word_freq.items() if val >= 3}\n",
    "\n",
    "with open('./poem_dict.txt', 'w', encoding='utf-8') as f:\n",
    "    for k, v in word_freq.items():\n",
    "        f.write(f'{k} {v}\\n')\n",
    "\n",
    "jieba.set_dictionary('./poem_dict.txt')"
   ]
  },
  {
   "cell_type": "markdown",
   "metadata": {},
   "source": [
    "测试目前词典的分词效果。可见之前使用原始词典分错的地方都能分对，但是也添加了几处错误：\n",
    "+ /梦啼妆泪/红/阑/干\n",
    "+ /初闻涕/泪满/衣裳/\n",
    "+ 我欲/乘风/归/去/\n",
    "\n",
    "但是目前我们只关心唐诗的五字句和七字句的后三个字的分词，所以可以认为效果明显变好，毕竟“雄/帝宅”，“任/舟檝”，“無/町畦”等都能分对。"
   ]
  },
  {
   "cell_type": "code",
   "execution_count": 11,
   "metadata": {},
   "outputs": [
    {
     "name": "stderr",
     "output_type": "stream",
     "text": [
      "Building prefix dict from C:\\Users\\JUNHONG\\history-digital\\poem_dict.txt ...\n"
     ]
    },
    {
     "name": "stdout",
     "output_type": "stream",
     "text": [
      "Poem #1\n"
     ]
    },
    {
     "name": "stderr",
     "output_type": "stream",
     "text": [
      "Dumping model to file cache C:\\Users\\JUNHONG\\AppData\\Local\\Temp\\jieba.u8c6200af4b343395bea15d660881757b.cache\n",
      "Loading model cost 0.239 seconds.\n",
      "Prefix dict has been built successfully.\n"
     ]
    },
    {
     "name": "stdout",
     "output_type": "stream",
     "text": [
      "秦川/雄/帝宅/，/函谷/壯/皇居/。\n",
      "綺/殿/千尋/起/，/離宮/百雉/餘/。\n",
      "連甍/遙接漢/，/飛觀/迥/凌虛/。\n",
      "雲日/隱層/闕/，/風煙/出/綺疎/。\n",
      "Poem #2\n",
      "遠山/媚/平楚/，/宿雨/漲/清溪/。\n",
      "沿泝/任/舟檝/，/歡言/無/町畦/。\n",
      "夜深/忽梦/少年/事/，/梦啼妆泪/红/阑/干\n",
      "Poem #3\n",
      "剑外/忽/传收/蓟北/，/初闻涕/泪满/衣裳/。\n",
      "却看/妻子/愁/何在/，/漫卷/诗书/喜欲狂/。\n",
      "白日/放歌/须/纵酒/，/青春/作伴/好/还/乡/。\n",
      "即/从/巴峡/穿/巫峡/，/便下/襄阳/向/洛阳/。\n",
      "Poem #4\n",
      "明月/几时/有/，/把酒/问/青天/。\n",
      "不知/天上/宫阙/，/今夕/是何/年/。\n",
      "我欲/乘风/归/去/，/又恐/琼楼/玉宇/，/高处/不胜寒/。\n",
      "起舞/弄/清影/，/何似/在人/间/。\n",
      "转朱阁/，/低绮户/，/照无眠/。\n",
      "不应/有恨/，/何事/长向别/时/圆/。\n",
      "人有/悲欢/离合/，/月有/阴晴/圆缺/，/此事/古难全/。\n",
      "但愿/人长/久/，/千里/共婵娟/。\n"
     ]
    }
   ],
   "source": [
    "run_test_1()"
   ]
  },
  {
   "cell_type": "markdown",
   "metadata": {},
   "source": [
    "之后根据词典对后三个字再次进行分词，并据此扩充词典："
   ]
  },
  {
   "cell_type": "code",
   "execution_count": 12,
   "metadata": {},
   "outputs": [],
   "source": [
    "def addition_segment(phrase):\n",
    "    result = jieba.lcut(phrase, cut_all=False)     \n",
    "    if len(result) != 2:\n",
    "        return phrase\n",
    "    if len(result[0]) == 2:\n",
    "        return result[0]\n",
    "    return result[1]\n",
    "\n",
    "def second_segment(lines):\n",
    "    words = []\n",
    "    for line in lines:\n",
    "        if len(line) == 5:\n",
    "            words.append(line[0:2])\n",
    "            words.append(addition_segment(line[2:]))\n",
    "        if len(line) == 7:\n",
    "            words.append(line[0:2])\n",
    "            words.append(line[2:4])\n",
    "            words.append(addition_segment(line[4:]))\n",
    "    return words"
   ]
  },
  {
   "cell_type": "code",
   "execution_count": 13,
   "metadata": {},
   "outputs": [],
   "source": [
    "poem_df['dic_total'] = poem_df['lines'].apply(second_segment)"
   ]
  },
  {
   "cell_type": "code",
   "execution_count": 14,
   "metadata": {},
   "outputs": [],
   "source": [
    "word_freq = dict()\n",
    "dictionary = [item for sublist in poem_df['dic_total'] for item in sublist]\n",
    "for i in dictionary:\n",
    "    word_freq[i] = word_freq.get(i, 0) + 1\n",
    "\n",
    "word_freq = {key:val for key, val in word_freq.items() if val >= 3}\n",
    "\n",
    "with open('./whole_poem_dict.txt', 'w', encoding='utf-8') as f:\n",
    "    for k, v in word_freq.items():\n",
    "        f.write(f'{k} {v}\\n')\n",
    "\n",
    "jieba.set_dictionary('./whole_poem_dict.txt')"
   ]
  },
  {
   "cell_type": "markdown",
   "metadata": {},
   "source": [
    "第二次的分词效果如下，可见效果再次变好，我觉得和上次的分词效果相当，虽然修正了“初闻/涕泪/满/衣裳”，但是“却看/妻子/愁何/在”又分错了。"
   ]
  },
  {
   "cell_type": "code",
   "execution_count": 15,
   "metadata": {},
   "outputs": [
    {
     "name": "stderr",
     "output_type": "stream",
     "text": [
      "Building prefix dict from C:\\Users\\JUNHONG\\history-digital\\whole_poem_dict.txt ...\n"
     ]
    },
    {
     "name": "stdout",
     "output_type": "stream",
     "text": [
      "Poem #1\n"
     ]
    },
    {
     "name": "stderr",
     "output_type": "stream",
     "text": [
      "Dumping model to file cache C:\\Users\\JUNHONG\\AppData\\Local\\Temp\\jieba.u62ee47001558428dfaffbfcc81625e42.cache\n",
      "Loading model cost 0.276 seconds.\n",
      "Prefix dict has been built successfully.\n"
     ]
    },
    {
     "name": "stdout",
     "output_type": "stream",
     "text": [
      "秦川/雄/帝宅/，/函谷/壯/皇居/。\n",
      "綺/殿/千尋/起/，/離宮/百雉/餘/。\n",
      "連甍/遙接漢/，/飛觀/迥/凌虛/。\n",
      "雲日/隱層/闕/，/風煙/出/綺疎/。\n",
      "Poem #2\n",
      "遠山/媚/平楚/，/宿雨/漲/清溪/。\n",
      "沿泝/任/舟檝/，/歡言/無/町畦/。\n",
      "夜深/忽梦/少年/事/，/梦啼妆泪/红/阑/干\n",
      "Poem #3\n",
      "剑外/忽/传收/蓟北/，/初闻/涕泪/满/衣裳/。\n",
      "却看/妻子/愁何/在/，/漫卷/诗书/喜欲狂/。\n",
      "白日/放歌/须/纵酒/，/青春/作伴/好/还/乡/。\n",
      "即/从/巴峡/穿/巫峡/，/便下/襄阳/向/洛阳/。\n",
      "Poem #4\n",
      "明月/几时/有/，/把酒/问/青天/。\n",
      "不知/天上/宫阙/，/今夕/是何/年/。\n",
      "我欲/乘风/归/去/，/又恐/琼楼/玉宇/，/高处/不胜寒/。\n",
      "起舞/弄/清影/，/何似/在人/间/。\n",
      "转朱阁/，/低绮户/，/照无眠/。\n",
      "不应/有恨/，/何事/长向别/时/圆/。\n",
      "人有/悲欢/离合/，/月有/阴晴/圆缺/，/此事/古难全/。\n",
      "但愿/人长/久/，/千里/共婵娟/。\n"
     ]
    }
   ],
   "source": [
    "run_test_1()"
   ]
  },
  {
   "cell_type": "markdown",
   "metadata": {},
   "source": [
    "总结，jieba分词很有问题，词典中单词的频率并不能有效改善分词结果。比如在自定义的词典中，明明没有“愁何”，而且“何在”出现了很多次，但jieba仍然分成了“愁何/在”。\n",
    "\n",
    "jieba的这个问题已经讨论了好几年了：\n",
    "https://github.com/fxsjy/jieba/issues/14"
   ]
  },
  {
   "cell_type": "markdown",
   "metadata": {},
   "source": [
    "## 宋词"
   ]
  },
  {
   "cell_type": "markdown",
   "metadata": {},
   "source": [
    "我本想人工划分意向，但有些名句出现得太例外：\n",
    "+ 六字句通常划分方式各异，最常见的为222式，但有的名句与众不同：七八个星天外，两三点雨山前。\n",
    "+ “满江红”此句与别句的划分方式都不同：“驾长车，踏破贺兰山缺”，加之“贺兰山”是地名，故最好不要人工划分。\n",
    "\n",
    "所以只能重回之前用的套路，先提取五字句中的前两个字和七字句中的前四字扩充词典，再根据扩充后的词典分词。"
   ]
  },
  {
   "cell_type": "code",
   "execution_count": 16,
   "metadata": {},
   "outputs": [
    {
     "data": {
      "text/html": [
       "<div>\n",
       "<style scoped>\n",
       "    .dataframe tbody tr th:only-of-type {\n",
       "        vertical-align: middle;\n",
       "    }\n",
       "\n",
       "    .dataframe tbody tr th {\n",
       "        vertical-align: top;\n",
       "    }\n",
       "\n",
       "    .dataframe thead th {\n",
       "        text-align: right;\n",
       "    }\n",
       "</style>\n",
       "<table border=\"1\" class=\"dataframe\">\n",
       "  <thead>\n",
       "    <tr style=\"text-align: right;\">\n",
       "      <th></th>\n",
       "      <th>author</th>\n",
       "      <th>paragraphs</th>\n",
       "      <th>rhythmic</th>\n",
       "      <th>tags</th>\n",
       "      <th>prologue</th>\n",
       "    </tr>\n",
       "  </thead>\n",
       "  <tbody>\n",
       "    <tr>\n",
       "      <th>0</th>\n",
       "      <td>和岘</td>\n",
       "      <td>[气和玉烛，睿化著鸿明。, 缇管一阳生。, 郊禋盛礼燔柴毕，旋轸凤凰城。, 森罗仪卫振华缨。...</td>\n",
       "      <td>导引</td>\n",
       "      <td>NaN</td>\n",
       "      <td>NaN</td>\n",
       "    </tr>\n",
       "    <tr>\n",
       "      <th>1</th>\n",
       "      <td>和岘</td>\n",
       "      <td>[严夜警，铜莲漏迟迟。, 清禁肃，森陛戟，羽卫俨皇闱。, 角声励，钲鼓攸宜。, 金管成雅奏，...</td>\n",
       "      <td>六州</td>\n",
       "      <td>NaN</td>\n",
       "      <td>NaN</td>\n",
       "    </tr>\n",
       "    <tr>\n",
       "      <th>2</th>\n",
       "      <td>和岘</td>\n",
       "      <td>[承宝运，驯致隆平。, 鸿庆被寰瀛。, 时清俗阜，治定功成。, 遐迩咏由庚。, 严郊祀，文物...</td>\n",
       "      <td>十二时・忆少年</td>\n",
       "      <td>NaN</td>\n",
       "      <td>NaN</td>\n",
       "    </tr>\n",
       "    <tr>\n",
       "      <th>3</th>\n",
       "      <td>王禹</td>\n",
       "      <td>[雨恨云愁，江南依旧称佳丽。, 水村渔市。, 一缕孤烟细。, 天际征鸿，遥认行如缀。, 平生...</td>\n",
       "      <td>点绛唇</td>\n",
       "      <td>NaN</td>\n",
       "      <td>NaN</td>\n",
       "    </tr>\n",
       "    <tr>\n",
       "      <th>4</th>\n",
       "      <td>苏易简</td>\n",
       "      <td>[神仙神仙瑶池宴。, 片片。, 碧桃零落春风晚。, 翠云开处，隐隐金舆挽。, 玉麟背冷清风远。]</td>\n",
       "      <td>越江吟</td>\n",
       "      <td>NaN</td>\n",
       "      <td>NaN</td>\n",
       "    </tr>\n",
       "    <tr>\n",
       "      <th>...</th>\n",
       "      <td>...</td>\n",
       "      <td>...</td>\n",
       "      <td>...</td>\n",
       "      <td>...</td>\n",
       "      <td>...</td>\n",
       "    </tr>\n",
       "    <tr>\n",
       "      <th>21048</th>\n",
       "      <td>范成大</td>\n",
       "      <td>[催下珠帘护绮丛。, 花枝红里烛枝红。, 烛光花影夜葱茏。, 锦地绣天香雾里，珠星璧月彩云中...</td>\n",
       "      <td>浣溪沙</td>\n",
       "      <td>NaN</td>\n",
       "      <td>NaN</td>\n",
       "    </tr>\n",
       "    <tr>\n",
       "      <th>21049</th>\n",
       "      <td>范成大</td>\n",
       "      <td>[送尽残春更出游。, 风前踪迹似沙鸥。, 浅斟低唱小淹留。, 月见西楼清夜醉，雨添南浦绿波愁...</td>\n",
       "      <td>浣溪沙</td>\n",
       "      <td>NaN</td>\n",
       "      <td>NaN</td>\n",
       "    </tr>\n",
       "    <tr>\n",
       "      <th>21050</th>\n",
       "      <td>范成大</td>\n",
       "      <td>[歙浦钱塘一水通。, 闲云如幕碧重重。, 吴山应在碧云东。, 无力海棠风淡荡，半眠官柳日葱茏...</td>\n",
       "      <td>浣溪沙</td>\n",
       "      <td>NaN</td>\n",
       "      <td>NaN</td>\n",
       "    </tr>\n",
       "    <tr>\n",
       "      <th>21051</th>\n",
       "      <td>范成大</td>\n",
       "      <td>[宝髻双双出绮丛。, 妆光梅影各春风。, 收灯时候却相逢。, 鱼子笺中此宛转，龙香拨上语玲珑...</td>\n",
       "      <td>浣溪沙</td>\n",
       "      <td>NaN</td>\n",
       "      <td>NaN</td>\n",
       "    </tr>\n",
       "    <tr>\n",
       "      <th>21052</th>\n",
       "      <td>范成大</td>\n",
       "      <td>[红锦障泥杏叶鞯。, 解鞍呼渡忆当年。, 马骄不肯上航船。, 茅店竹篱开席市，绛裙青袂斸姜田...</td>\n",
       "      <td>浣溪沙</td>\n",
       "      <td>NaN</td>\n",
       "      <td>NaN</td>\n",
       "    </tr>\n",
       "  </tbody>\n",
       "</table>\n",
       "<p>21053 rows × 5 columns</p>\n",
       "</div>"
      ],
      "text/plain": [
       "      author                                         paragraphs rhythmic tags  \\\n",
       "0         和岘  [气和玉烛，睿化著鸿明。, 缇管一阳生。, 郊禋盛礼燔柴毕，旋轸凤凰城。, 森罗仪卫振华缨。...       导引  NaN   \n",
       "1         和岘  [严夜警，铜莲漏迟迟。, 清禁肃，森陛戟，羽卫俨皇闱。, 角声励，钲鼓攸宜。, 金管成雅奏，...       六州  NaN   \n",
       "2         和岘  [承宝运，驯致隆平。, 鸿庆被寰瀛。, 时清俗阜，治定功成。, 遐迩咏由庚。, 严郊祀，文物...  十二时・忆少年  NaN   \n",
       "3         王禹  [雨恨云愁，江南依旧称佳丽。, 水村渔市。, 一缕孤烟细。, 天际征鸿，遥认行如缀。, 平生...      点绛唇  NaN   \n",
       "4        苏易简   [神仙神仙瑶池宴。, 片片。, 碧桃零落春风晚。, 翠云开处，隐隐金舆挽。, 玉麟背冷清风远。]      越江吟  NaN   \n",
       "...      ...                                                ...      ...  ...   \n",
       "21048    范成大  [催下珠帘护绮丛。, 花枝红里烛枝红。, 烛光花影夜葱茏。, 锦地绣天香雾里，珠星璧月彩云中...      浣溪沙  NaN   \n",
       "21049    范成大  [送尽残春更出游。, 风前踪迹似沙鸥。, 浅斟低唱小淹留。, 月见西楼清夜醉，雨添南浦绿波愁...      浣溪沙  NaN   \n",
       "21050    范成大  [歙浦钱塘一水通。, 闲云如幕碧重重。, 吴山应在碧云东。, 无力海棠风淡荡，半眠官柳日葱茏...      浣溪沙  NaN   \n",
       "21051    范成大  [宝髻双双出绮丛。, 妆光梅影各春风。, 收灯时候却相逢。, 鱼子笺中此宛转，龙香拨上语玲珑...      浣溪沙  NaN   \n",
       "21052    范成大  [红锦障泥杏叶鞯。, 解鞍呼渡忆当年。, 马骄不肯上航船。, 茅店竹篱开席市，绛裙青袂斸姜田...      浣溪沙  NaN   \n",
       "\n",
       "      prologue  \n",
       "0          NaN  \n",
       "1          NaN  \n",
       "2          NaN  \n",
       "3          NaN  \n",
       "4          NaN  \n",
       "...        ...  \n",
       "21048      NaN  \n",
       "21049      NaN  \n",
       "21050      NaN  \n",
       "21051      NaN  \n",
       "21052      NaN  \n",
       "\n",
       "[21053 rows x 5 columns]"
      ]
     },
     "execution_count": 16,
     "metadata": {},
     "output_type": "execute_result"
    }
   ],
   "source": [
    "lyrics = []\n",
    "file_list = os.listdir(LYRIC_DIR)\n",
    "for file in file_list:\n",
    "    if file.startswith('ci.song'):\n",
    "        lyrics.append(pd.read_json(f'{LYRIC_DIR}{file}'))\n",
    "lyric_df = pd.concat(lyrics, ignore_index=True)\n",
    "lyric_df"
   ]
  },
  {
   "cell_type": "markdown",
   "metadata": {},
   "source": [
    "词牌名概览。出现次数最多的15个词牌名占了宋词的三分之一："
   ]
  },
  {
   "cell_type": "code",
   "execution_count": 17,
   "metadata": {},
   "outputs": [
    {
     "data": {
      "text/html": [
       "<div>\n",
       "<style scoped>\n",
       "    .dataframe tbody tr th:only-of-type {\n",
       "        vertical-align: middle;\n",
       "    }\n",
       "\n",
       "    .dataframe tbody tr th {\n",
       "        vertical-align: top;\n",
       "    }\n",
       "\n",
       "    .dataframe thead th {\n",
       "        text-align: right;\n",
       "    }\n",
       "</style>\n",
       "<table border=\"1\" class=\"dataframe\">\n",
       "  <thead>\n",
       "    <tr style=\"text-align: right;\">\n",
       "      <th></th>\n",
       "      <th>author</th>\n",
       "      <th>paragraphs</th>\n",
       "      <th>tags</th>\n",
       "      <th>prologue</th>\n",
       "    </tr>\n",
       "    <tr>\n",
       "      <th>rhythmic</th>\n",
       "      <th></th>\n",
       "      <th></th>\n",
       "      <th></th>\n",
       "      <th></th>\n",
       "    </tr>\n",
       "  </thead>\n",
       "  <tbody>\n",
       "    <tr>\n",
       "      <th>浣溪沙</th>\n",
       "      <td>776</td>\n",
       "      <td>776</td>\n",
       "      <td>16</td>\n",
       "      <td>1</td>\n",
       "    </tr>\n",
       "    <tr>\n",
       "      <th>水调歌头</th>\n",
       "      <td>743</td>\n",
       "      <td>743</td>\n",
       "      <td>45</td>\n",
       "      <td>0</td>\n",
       "    </tr>\n",
       "    <tr>\n",
       "      <th>鹧鸪天</th>\n",
       "      <td>657</td>\n",
       "      <td>657</td>\n",
       "      <td>19</td>\n",
       "      <td>0</td>\n",
       "    </tr>\n",
       "    <tr>\n",
       "      <th>菩萨蛮</th>\n",
       "      <td>598</td>\n",
       "      <td>598</td>\n",
       "      <td>9</td>\n",
       "      <td>0</td>\n",
       "    </tr>\n",
       "    <tr>\n",
       "      <th>满江红</th>\n",
       "      <td>549</td>\n",
       "      <td>549</td>\n",
       "      <td>30</td>\n",
       "      <td>0</td>\n",
       "    </tr>\n",
       "    <tr>\n",
       "      <th>西江月</th>\n",
       "      <td>490</td>\n",
       "      <td>490</td>\n",
       "      <td>7</td>\n",
       "      <td>2</td>\n",
       "    </tr>\n",
       "    <tr>\n",
       "      <th>临江仙</th>\n",
       "      <td>482</td>\n",
       "      <td>482</td>\n",
       "      <td>13</td>\n",
       "      <td>0</td>\n",
       "    </tr>\n",
       "    <tr>\n",
       "      <th>念奴娇</th>\n",
       "      <td>432</td>\n",
       "      <td>432</td>\n",
       "      <td>28</td>\n",
       "      <td>0</td>\n",
       "    </tr>\n",
       "    <tr>\n",
       "      <th>减字木兰花</th>\n",
       "      <td>425</td>\n",
       "      <td>425</td>\n",
       "      <td>4</td>\n",
       "      <td>0</td>\n",
       "    </tr>\n",
       "    <tr>\n",
       "      <th>沁园春</th>\n",
       "      <td>423</td>\n",
       "      <td>423</td>\n",
       "      <td>28</td>\n",
       "      <td>0</td>\n",
       "    </tr>\n",
       "    <tr>\n",
       "      <th>蝶恋花</th>\n",
       "      <td>416</td>\n",
       "      <td>416</td>\n",
       "      <td>16</td>\n",
       "      <td>0</td>\n",
       "    </tr>\n",
       "    <tr>\n",
       "      <th>点绛唇</th>\n",
       "      <td>390</td>\n",
       "      <td>390</td>\n",
       "      <td>7</td>\n",
       "      <td>2</td>\n",
       "    </tr>\n",
       "    <tr>\n",
       "      <th>失调名</th>\n",
       "      <td>372</td>\n",
       "      <td>372</td>\n",
       "      <td>3</td>\n",
       "      <td>0</td>\n",
       "    </tr>\n",
       "    <tr>\n",
       "      <th>贺新郎</th>\n",
       "      <td>361</td>\n",
       "      <td>361</td>\n",
       "      <td>37</td>\n",
       "      <td>0</td>\n",
       "    </tr>\n",
       "    <tr>\n",
       "      <th>清平乐</th>\n",
       "      <td>356</td>\n",
       "      <td>356</td>\n",
       "      <td>8</td>\n",
       "      <td>0</td>\n",
       "    </tr>\n",
       "  </tbody>\n",
       "</table>\n",
       "</div>"
      ],
      "text/plain": [
       "          author  paragraphs  tags  prologue\n",
       "rhythmic                                    \n",
       "浣溪沙          776         776    16         1\n",
       "水调歌头         743         743    45         0\n",
       "鹧鸪天          657         657    19         0\n",
       "菩萨蛮          598         598     9         0\n",
       "满江红          549         549    30         0\n",
       "西江月          490         490     7         2\n",
       "临江仙          482         482    13         0\n",
       "念奴娇          432         432    28         0\n",
       "减字木兰花        425         425     4         0\n",
       "沁园春          423         423    28         0\n",
       "蝶恋花          416         416    16         0\n",
       "点绛唇          390         390     7         2\n",
       "失调名          372         372     3         0\n",
       "贺新郎          361         361    37         0\n",
       "清平乐          356         356     8         0"
      ]
     },
     "execution_count": 17,
     "metadata": {},
     "output_type": "execute_result"
    }
   ],
   "source": [
    "rhythm_df = lyric_df.groupby(['rhythmic']).count()\n",
    "rhythm_df.sort_values(by='paragraphs', ascending=False).head(15)"
   ]
  },
  {
   "cell_type": "code",
   "execution_count": 18,
   "metadata": {},
   "outputs": [],
   "source": [
    "lyric_df['lines'] = lyric_df['paragraphs'].apply(cut_lines)"
   ]
  },
  {
   "cell_type": "code",
   "execution_count": 19,
   "metadata": {},
   "outputs": [
    {
     "data": {
      "text/plain": [
       "0        [睿化, 缇管, 郊禋, 盛礼, 旋轸, 森罗, 仪卫, 载路, 皇图, 大业, 垂象, 九...\n",
       "1                         [铜莲, 羽卫, 金管, 属景, 盛德, 三秀, 合尧, 蹈咏]\n",
       "2        [鸿庆, 遐迩, 星拱, 布羽, 明德, 神降, 万乘, 肃銮, 玉帛, 皇泽, 普率, 睿...\n",
       "3                                     [江南, 依旧, 一缕, 遥认, 谁会]\n",
       "4                             [神仙, 神仙, 碧桃, 零落, 隐隐, 玉麟, 背冷]\n",
       "                               ...                        \n",
       "21048     [催下, 珠帘, 花枝, 红里, 烛光, 花影, 锦地, 绣天, 珠星, 璧月, 人间, 别有]\n",
       "21049     [送尽, 残春, 风前, 踪迹, 浅斟, 低唱, 月见, 西楼, 雨添, 南浦, 有人, 无计]\n",
       "21050     [歙浦, 钱塘, 闲云, 如幕, 吴山, 应在, 无力, 海棠, 半眠, 官柳, 眼前, 春色]\n",
       "21051     [宝髻, 双双, 妆光, 梅影, 收灯, 时候, 鱼子, 笺中, 龙香, 拨上, 明朝, 车马]\n",
       "21052     [红锦, 障泥, 解鞍, 呼渡, 马骄, 不肯, 茅店, 竹篱, 绛裙, 青袂, 临平, 风物]\n",
       "Name: dic, Length: 21053, dtype: object"
      ]
     },
     "execution_count": 19,
     "metadata": {},
     "output_type": "execute_result"
    }
   ],
   "source": [
    "lyric_df['dic'] = lyric_df['lines'].apply(first_segment)\n",
    "lyric_df['dic']"
   ]
  },
  {
   "cell_type": "code",
   "execution_count": 20,
   "metadata": {},
   "outputs": [],
   "source": [
    "word_freq = dict()\n",
    "dictionary = [item for sublist in poem_df['dic'] for item in sublist]\n",
    "lyric_dictionary = [item for sublist in lyric_df['dic'] for item in sublist]\n",
    "dictionary.extend(lyric_dictionary)\n",
    "for i in dictionary:\n",
    "    word_freq[i] = word_freq.get(i, 0) + 1\n",
    "\n",
    "word_freq = {key:val for key, val in word_freq.items() if val >= 3}\n",
    "    \n",
    "with open('./lyric_dict.txt', 'w', encoding='utf-8') as f:\n",
    "    for k, v in word_freq.items():\n",
    "        f.write(f'{k} {v * 100}\\n')\n",
    "\n",
    "jieba.set_dictionary('./lyric_dict.txt')"
   ]
  },
  {
   "cell_type": "code",
   "execution_count": 21,
   "metadata": {},
   "outputs": [],
   "source": [
    "def lyric_second_segment(lines):\n",
    "    words = []\n",
    "    for line in lines:\n",
    "        if len(line) == 5:\n",
    "            words.append(line[0:2])\n",
    "            words.append(addition_segment(line[2:]))\n",
    "        if len(line) == 7:\n",
    "            words.append(line[0:2])\n",
    "            words.append(line[2:4])\n",
    "            words.append(addition_segment(line[4:]))\n",
    "        else:\n",
    "            tmp = jieba.lcut(line, cut_all=False)\n",
    "            words.extend(list(filter(lambda x: len(x) >= 2, tmp)))\n",
    "    return words"
   ]
  },
  {
   "cell_type": "code",
   "execution_count": 22,
   "metadata": {},
   "outputs": [
    {
     "name": "stderr",
     "output_type": "stream",
     "text": [
      "Building prefix dict from C:\\Users\\JUNHONG\\history-digital\\lyric_dict.txt ...\n",
      "Dumping model to file cache C:\\Users\\JUNHONG\\AppData\\Local\\Temp\\jieba.uaf15fae91440152dd276ee8f618272a6.cache\n",
      "Loading model cost 0.238 seconds.\n",
      "Prefix dict has been built successfully.\n"
     ]
    }
   ],
   "source": [
    "lyric_df['dic_total'] = lyric_df['lines'].apply(lyric_second_segment)"
   ]
  },
  {
   "cell_type": "code",
   "execution_count": 23,
   "metadata": {},
   "outputs": [
    {
     "name": "stdout",
     "output_type": "stream",
     "text": [
      "Poem #1\n",
      "秦川/雄/帝宅/，/函谷/壯/皇居/。\n",
      "綺/殿/千尋/起/，/離宮/百雉/餘/。\n",
      "連甍/遙接漢/，/飛觀/迥/凌虛/。\n",
      "雲日/隱層/闕/，/風煙/出/綺疎/。\n",
      "Poem #2\n",
      "遠山/媚/平楚/，/宿雨/漲/清溪/。\n",
      "沿泝/任/舟檝/，/歡言/無/町畦/。\n",
      "夜深/忽梦/少年/事/，/梦/啼妆/泪红/阑干\n",
      "Poem #3\n",
      "剑外/忽/传收/蓟北/，/初闻/涕泪/满/衣裳/。\n",
      "却看/妻子/愁/何在/，/漫卷/诗书/喜欲狂/。\n",
      "白日/放歌/须/纵酒/，/青春/作伴/好/还/乡/。\n",
      "即/从/巴峡/穿/巫峡/，/便下/襄阳/向/洛阳/。\n",
      "Poem #4\n",
      "明月/几时/有/，/把酒/问/青天/。\n",
      "不知/天上/宫阙/，/今夕/是何/年/。\n",
      "我欲/乘风/归去/，/又恐/琼楼/玉宇/，/高处/不胜/寒/。\n",
      "起舞/弄/清影/，/何似/在人/间/。\n",
      "转/朱阁/，/低绮户/，/照/无眠/。\n",
      "不应/有恨/，/何事/长向/别时/圆/。\n",
      "人有/悲欢/离合/，/月有/阴晴/圆缺/，/此事/古难全/。\n",
      "但愿/人长/久/，/千里/共/婵娟/。\n"
     ]
    }
   ],
   "source": [
    "run_test_1()"
   ]
  },
  {
   "cell_type": "markdown",
   "metadata": {},
   "source": [
    "最后一次分词的结果。“却看/妻子/愁/何在”终于分对了，虽然“梦/啼妆/泪红/阑干”分错，但是我们只关心对后三个字的分词，所以无伤大雅。最关键的是，“转/朱阁”终于分出来了，“千里/共/婵娟”的“婵娟”也分出来了。但是上述几个分词词典都没正确地分出“但愿/人长/久”，我看字典里没有“长久”和“人长”，所以我认为是它随便分了。"
   ]
  },
  {
   "cell_type": "markdown",
   "metadata": {},
   "source": [
    "总结一下我的想法：\n",
    "\n",
    "假设：五字句AABBB的前两个字AA，七字句AABBCCC的前四个字AA和BB，统一视为可以直接提取出来的“好意象”。当然这个规律也有例外，但是我只找到白居易的“家在虾蟆陵下住”这一个反例，我觉得只是因为白居易本来就专门写通俗化口语化的诗。后三个字的分法大相径庭，所以需要借助分词工具。\n",
    "\n",
    "做法：\n",
    "1. 先用唐诗和宋诗的“好意象”构建词典，然后用得到的词典对五字句AABBB的后三个字BBB，七字句AABBCCC的后三个字CCC分词。用对BBB和CCC的分词结果扩充词典。\n",
    "2. 唐诗的分词完成。分词结果就是好意象+后三个字的分词。\n",
    "3. 用宋词里的五字句的和七字句的“好意象”扩充词典，对宋词其他句式进行分词，\n",
    "4. 宋词的分词完成。分词结果就是：\n",
    "        对于五字句和七字句：好意象+后三个字的分词；\n",
    "        对于其他句式：整句的分词结果"
   ]
  },
  {
   "cell_type": "code",
   "execution_count": 24,
   "metadata": {},
   "outputs": [
    {
     "name": "stderr",
     "output_type": "stream",
     "text": [
      "Building prefix dict from C:\\Users\\JUNHONG\\history-digital\\poem_dict.txt ...\n",
      "Loading model from cache C:\\Users\\JUNHONG\\AppData\\Local\\Temp\\jieba.u8c6200af4b343395bea15d660881757b.cache\n",
      "Loading model cost 0.161 seconds.\n",
      "Prefix dict has been built successfully.\n"
     ]
    }
   ],
   "source": [
    "song_df = lyric_df\n",
    "\n",
    "poems = []\n",
    "file_list = os.listdir(POEM_DIR)\n",
    "for file in file_list:\n",
    "    if file.startswith('poet.tang'):\n",
    "        poems.append(pd.read_json(f'{POEM_DIR}{file}'))\n",
    "tang_df = pd.concat(poems, ignore_index=True)\n",
    "tang_df['lines'] = tang_df['paragraphs'].apply(cut_lines)\n",
    "jieba.set_dictionary('./poem_dict.txt')\n",
    "tang_df['dic_total'] = tang_df['lines'].apply(second_segment)\n",
    "jieba.set_dictionary('./lyric_dict.txt')"
   ]
  },
  {
   "cell_type": "markdown",
   "metadata": {},
   "source": [
    "总之，目前可以使用tang_df['dic_total']和song_df['dic_total']来看唐诗和宋词的分词结果："
   ]
  },
  {
   "cell_type": "code",
   "execution_count": 25,
   "metadata": {},
   "outputs": [],
   "source": [
    "#tang_df"
   ]
  },
  {
   "cell_type": "code",
   "execution_count": 26,
   "metadata": {},
   "outputs": [],
   "source": [
    "#song_df"
   ]
  },
  {
   "cell_type": "code",
   "execution_count": 27,
   "metadata": {},
   "outputs": [],
   "source": [
    "libai = tang_df[tang_df['author']== '李白']\n",
    "li_seg = libai['dic_total'].tolist()"
   ]
  },
  {
   "cell_type": "code",
   "execution_count": 28,
   "metadata": {},
   "outputs": [],
   "source": [
    "#libai"
   ]
  },
  {
   "cell_type": "code",
   "execution_count": 29,
   "metadata": {},
   "outputs": [
    {
     "data": {
      "text/plain": [
       "1207"
      ]
     },
     "execution_count": 29,
     "metadata": {},
     "output_type": "execute_result"
    }
   ],
   "source": [
    "len(libai['paragraphs'])"
   ]
  },
  {
   "cell_type": "code",
   "execution_count": 30,
   "metadata": {},
   "outputs": [
    {
     "data": {
      "text/plain": [
       "['三十',\n",
       " '離宮',\n",
       " '樓臺',\n",
       " '與天',\n",
       " '閣道',\n",
       " '步行',\n",
       " '美人',\n",
       " '愁煙',\n",
       " '恩疎',\n",
       " '不及',\n",
       " '桃李',\n",
       " '傷春',\n",
       " '淫樂',\n",
       " '意何極',\n",
       " '金輿',\n",
       " '回中',\n",
       " '萬乘',\n",
       " '黃道',\n",
       " '千旗',\n",
       " '彩虹',\n",
       " '前軍',\n",
       " '細柳',\n",
       " '後騎',\n",
       " '甘泉',\n",
       " '豈問',\n",
       " '渭川',\n",
       " '寧邀',\n",
       " '野童',\n",
       " '秋暮',\n",
       " '瑤池',\n",
       " '歸來',\n",
       " '未窮']"
      ]
     },
     "execution_count": 30,
     "metadata": {},
     "output_type": "execute_result"
    }
   ],
   "source": [
    "li_seg[0]"
   ]
  },
  {
   "cell_type": "code",
   "execution_count": 31,
   "metadata": {},
   "outputs": [],
   "source": [
    "import operator\n",
    "from functools import reduce\n",
    "\n",
    "li_list = reduce(operator.add, li_seg)\n",
    "#li_list"
   ]
  },
  {
   "cell_type": "code",
   "execution_count": 32,
   "metadata": {},
   "outputs": [],
   "source": [
    "from collections import Counter\n",
    "\n",
    "result_li = Counter(li_list)"
   ]
  },
  {
   "cell_type": "code",
   "execution_count": 33,
   "metadata": {},
   "outputs": [],
   "source": [
    "#result_li"
   ]
  },
  {
   "cell_type": "code",
   "execution_count": 35,
   "metadata": {},
   "outputs": [],
   "source": [
    "def tang_author_topK(author,K):\n",
    "    author_seg = tang_df[tang_df['author']==author]['dic_total'].tolist()\n",
    "    if len(author_seg)==0:return []\n",
    "    author_list = reduce(operator.add, author_seg) \n",
    "    result_author = Counter(author_list)\n",
    "    return  result_author.most_common(K)"
   ]
  },
  {
   "cell_type": "code",
   "execution_count": 37,
   "metadata": {},
   "outputs": [],
   "source": [
    "def song_author_topK(author,K):\n",
    "    author_seg = song_df[song_df['author']==author]['dic_total'].tolist()\n",
    "    if len(author_seg)==0:return []\n",
    "    author_list = reduce(operator.add, author_seg) \n",
    "    result_author = Counter(author_list)\n",
    "    return  result_author.most_common(K)"
   ]
  },
  {
   "cell_type": "code",
   "execution_count": 41,
   "metadata": {},
   "outputs": [],
   "source": [
    "from cnsenti import Sentiment\n",
    "from zhconv import convert"
   ]
  },
  {
   "cell_type": "code",
   "execution_count": 42,
   "metadata": {},
   "outputs": [
    {
     "name": "stderr",
     "output_type": "stream",
     "text": [
      "Building prefix dict from C:\\Users\\JUNHONG\\history-digital\\lyric_dict.txt ...\n",
      "Loading model from cache C:\\Users\\JUNHONG\\AppData\\Local\\Temp\\jieba.uaf15fae91440152dd276ee8f618272a6.cache\n",
      "Loading model cost 0.168 seconds.\n",
      "Prefix dict has been built successfully.\n"
     ]
    },
    {
     "name": "stdout",
     "output_type": "stream",
     "text": [
      "{'words': 26, 'sentences': 2, 'pos': 1, 'neg': 0}\n"
     ]
    }
   ],
   "source": [
    "senti = Sentiment()\n",
    "test_text= convert('君不見黃河之水天上來，奔流到海不復回。, 君不見高堂明鏡悲白髮，朝如青絲暮成雪。', 'zh-hans')\n",
    "result = senti.sentiment_count(test_text)\n",
    "print(result)"
   ]
  },
  {
   "cell_type": "code",
   "execution_count": 43,
   "metadata": {},
   "outputs": [],
   "source": [
    "from zhconv import convert"
   ]
  },
  {
   "cell_type": "code",
   "execution_count": 48,
   "metadata": {},
   "outputs": [],
   "source": [
    "city = ['长安','成都','扬州','杭州','苏州','金陵','幽州','明州','洛阳','钱塘','益州','临安','汴州','汴梁','锦官城','锦城','楼兰','渭城','玉门关']"
   ]
  },
  {
   "cell_type": "code",
   "execution_count": 49,
   "metadata": {},
   "outputs": [],
   "source": [
    "#reduce(operator.add,libai['paragraphs'].tolist())"
   ]
  },
  {
   "cell_type": "code",
   "execution_count": 50,
   "metadata": {},
   "outputs": [],
   "source": [
    "def tang_city_count(author):\n",
    "    result = {}\n",
    "    for c in city:\n",
    "        count = 0\n",
    "        author_l = tang_df[tang_df['author']== author]\n",
    "        if len( author_l)==0:\n",
    "            return {}\n",
    "        l = reduce(operator.add, author_l['paragraphs'].tolist())\n",
    "        for j in l:\n",
    "            if c in convert(j, 'zh-hans'):\n",
    "                count = count + 1\n",
    "        result[c] = count\n",
    "    return result\n",
    "            "
   ]
  },
  {
   "cell_type": "code",
   "execution_count": 51,
   "metadata": {},
   "outputs": [],
   "source": [
    "def song_city_count(author):\n",
    "    result = {}\n",
    "    for c in city:\n",
    "        count = 0\n",
    "        author_l = song_df[song_df['author']== author]\n",
    "        if len( author_l)==0:\n",
    "            return {}\n",
    "        l = reduce(operator.add, author_l['paragraphs'].tolist())\n",
    "        for j in l:\n",
    "            if c in convert(j, 'zh-hans'):\n",
    "                count = count + 1\n",
    "        result[c] = count\n",
    "    return result"
   ]
  },
  {
   "cell_type": "code",
   "execution_count": 53,
   "metadata": {},
   "outputs": [],
   "source": [
    "tang_female = ['薛涛','刘采春','鱼玄机','李冶']"
   ]
  },
  {
   "cell_type": "code",
   "execution_count": 55,
   "metadata": {},
   "outputs": [
    {
     "name": "stdout",
     "output_type": "stream",
     "text": [
      "薛涛 {'长安': 0, '成都': 0, '扬州': 0, '杭州': 0, '苏州': 0, '金陵': 0, '幽州': 0, '明州': 0, '洛阳': 1, '钱塘': 0, '益州': 0, '临安': 0, '汴州': 0, '汴梁': 0, '锦官城': 1, '锦城': 0, '楼兰': 0, '渭城': 0, '玉门关': 0}\n",
      "刘采春 {'长安': 0, '成都': 0, '扬州': 0, '杭州': 0, '苏州': 0, '金陵': 0, '幽州': 0, '明州': 0, '洛阳': 0, '钱塘': 0, '益州': 0, '临安': 0, '汴州': 0, '汴梁': 0, '锦官城': 0, '锦城': 0, '楼兰': 0, '渭城': 0, '玉门关': 0}\n",
      "鱼玄机 {'长安': 0, '成都': 0, '扬州': 0, '杭州': 0, '苏州': 0, '金陵': 0, '幽州': 0, '明州': 0, '洛阳': 0, '钱塘': 0, '益州': 0, '临安': 0, '汴州': 0, '汴梁': 0, '锦官城': 0, '锦城': 0, '楼兰': 0, '渭城': 0, '玉门关': 0}\n",
      "李冶 {'长安': 0, '成都': 0, '扬州': 0, '杭州': 0, '苏州': 0, '金陵': 0, '幽州': 0, '明州': 0, '洛阳': 0, '钱塘': 0, '益州': 0, '临安': 0, '汴州': 0, '汴梁': 0, '锦官城': 0, '锦城': 0, '楼兰': 0, '渭城': 0, '玉门关': 0}\n"
     ]
    }
   ],
   "source": [
    "for i in tang_female:\n",
    "    print(i,tang_city_count(convert(i, 'zh-hant')))"
   ]
  },
  {
   "cell_type": "code",
   "execution_count": 56,
   "metadata": {},
   "outputs": [
    {
     "name": "stdout",
     "output_type": "stream",
     "text": [
      "薛涛 [('不得', 13), ('芙蓉', 6), ('花落', 4), ('同心', 4), ('人間', 4), ('夕陽', 4), ('四五', 4), ('春風', 3), ('今日', 3), ('萬里', 3)]\n",
      "刘采春 [('桐廬', 2), ('昨日', 2), ('不喜', 1), ('秦淮', 1), ('生憎', 1), ('江上', 1), ('載兒', 1), ('夫壻', 1), ('經歲', 1), ('又經', 1)]\n",
      "鱼玄机 [('何處', 6), ('鸚鵡', 4), ('多情', 4), ('何事', 3), ('滿庭', 3), ('鴛鴦', 3), ('朱弦', 3), ('楊柳', 3), ('客舟', 2), ('風雨', 2)]\n",
      "李冶 [('相思', 6), ('相逢', 3), ('一時', 3), ('寂寞', 2), ('別後', 2), ('巫山', 2), ('流泉', 2), ('一彈', 2), ('海水', 2), ('暮雨', 2)]\n"
     ]
    }
   ],
   "source": [
    "for i in tang_female:\n",
    "    print(i,tang_author_topK(convert(i, 'zh-hant'),10))"
   ]
  },
  {
   "cell_type": "code",
   "execution_count": 57,
   "metadata": {},
   "outputs": [],
   "source": [
    "song_female = ['李清照','张玉娘','吴淑姬','朱淑真']"
   ]
  },
  {
   "cell_type": "code",
   "execution_count": 58,
   "metadata": {},
   "outputs": [
    {
     "name": "stdout",
     "output_type": "stream",
     "text": [
      "李清照 {'长安': 1, '成都': 0, '扬州': 1, '杭州': 0, '苏州': 0, '金陵': 0, '幽州': 0, '明州': 0, '洛阳': 0, '钱塘': 0, '益州': 0, '临安': 0, '汴州': 0, '汴梁': 0, '锦官城': 0, '锦城': 0, '楼兰': 0, '渭城': 0, '玉门关': 0}\n",
      "张玉娘 {}\n",
      "吴淑姬 {}\n",
      "朱淑真 {'长安': 0, '成都': 0, '扬州': 0, '杭州': 0, '苏州': 0, '金陵': 0, '幽州': 0, '明州': 0, '洛阳': 0, '钱塘': 0, '益州': 0, '临安': 0, '汴州': 0, '汴梁': 0, '锦官城': 0, '锦城': 0, '楼兰': 0, '渭城': 0, '玉门关': 0}\n"
     ]
    }
   ],
   "source": [
    "for i in song_female:\n",
    "    print(i,song_city_count(convert(i, 'zh-hant')))"
   ]
  },
  {
   "cell_type": "code",
   "execution_count": 59,
   "metadata": {},
   "outputs": [
    {
     "name": "stdout",
     "output_type": "stream",
     "text": [
      "李清照 [('多少', 6), ('萧萧', 6), ('憔悴', 6), ('瑞脑', 6), ('情怀', 5), ('香消', 5), ('梅花', 5), ('旧时', 5), ('庭院', 5), ('如今', 5)]\n",
      "张玉娘 []\n",
      "吴淑姬 []\n",
      "朱淑真 [('寂寞', 6), ('何处', 6), ('东风', 5), ('阑干', 5), ('芳草', 5), ('不忍', 4), ('梨花', 4), ('起来', 4), ('一枝', 4), ('恼人', 3)]\n"
     ]
    }
   ],
   "source": [
    "for i in song_female:\n",
    "    print(i,song_author_topK(convert(i, 'zh-hant'),10))"
   ]
  },
  {
   "cell_type": "code",
   "execution_count": 62,
   "metadata": {},
   "outputs": [],
   "source": [
    "li_friend = ['李白','杜甫','白居易','劉禹錫']\n",
    "han_friend = ['韓愈','張籍','孟郊','盧殷']\n",
    "liu_friend = ['劉長卿','劉方平','李嘉祐','皇甫冉']\n",
    "wei_friend = ['杜牧','李商隱','韋莊','許渾']\n",
    "su_friend = ['苏轼','王安石','韩琦','欧阳修','黄庭坚']"
   ]
  },
  {
   "cell_type": "code",
   "execution_count": 63,
   "metadata": {},
   "outputs": [
    {
     "name": "stdout",
     "output_type": "stream",
     "text": [
      "李白 {'长安': 35, '成都': 1, '扬州': 6, '杭州': 0, '苏州': 0, '金陵': 30, '幽州': 7, '明州': 0, '洛阳': 26, '钱塘': 0, '益州': 0, '临安': 1, '汴州': 0, '汴梁': 0, '锦官城': 0, '锦城': 6, '楼兰': 5, '渭城': 1, '玉门关': 2}\n",
      "杜甫 {'长安': 26, '成都': 10, '扬州': 3, '杭州': 1, '苏州': 0, '金陵': 0, '幽州': 2, '明州': 0, '洛阳': 12, '钱塘': 0, '益州': 2, '临安': 0, '汴州': 0, '汴梁': 0, '锦官城': 6, '锦城': 7, '楼兰': 2, '渭城': 0, '玉门关': 0}\n",
      "白居易 {'长安': 51, '成都': 2, '扬州': 4, '杭州': 17, '苏州': 19, '金陵': 0, '幽州': 0, '明州': 1, '洛阳': 50, '钱塘': 3, '益州': 0, '临安': 1, '汴州': 0, '汴梁': 0, '锦官城': 0, '锦城': 1, '楼兰': 0, '渭城': 2, '玉门关': 0}\n",
      "劉禹錫 {'长安': 19, '成都': 3, '扬州': 7, '杭州': 0, '苏州': 4, '金陵': 1, '幽州': 0, '明州': 1, '洛阳': 27, '钱塘': 2, '益州': 1, '临安': 0, '汴州': 1, '汴梁': 0, '锦官城': 0, '锦城': 1, '楼兰': 0, '渭城': 1, '玉门关': 0}\n"
     ]
    }
   ],
   "source": [
    "for i in li_friend:\n",
    "    print(i,tang_city_count(i))"
   ]
  },
  {
   "cell_type": "code",
   "execution_count": 64,
   "metadata": {},
   "outputs": [
    {
     "name": "stdout",
     "output_type": "stream",
     "text": [
      "韓愈 {'长安': 9, '成都': 0, '扬州': 1, '杭州': 0, '苏州': 0, '金陵': 0, '幽州': 1, '明州': 0, '洛阳': 6, '钱塘': 0, '益州': 0, '临安': 0, '汴州': 2, '汴梁': 0, '锦官城': 0, '锦城': 1, '楼兰': 0, '渭城': 0, '玉门关': 0}\n",
      "張籍 {'长安': 14, '成都': 0, '扬州': 2, '杭州': 0, '苏州': 0, '金陵': 4, '幽州': 0, '明州': 0, '洛阳': 9, '钱塘': 0, '益州': 1, '临安': 0, '汴州': 0, '汴梁': 0, '锦官城': 0, '锦城': 1, '楼兰': 0, '渭城': 0, '玉门关': 0}\n",
      "孟郊 {'长安': 18, '成都': 0, '扬州': 0, '杭州': 0, '苏州': 0, '金陵': 0, '幽州': 0, '明州': 0, '洛阳': 4, '钱塘': 0, '益州': 0, '临安': 0, '汴州': 0, '汴梁': 0, '锦官城': 0, '锦城': 0, '楼兰': 1, '渭城': 0, '玉门关': 0}\n",
      "盧殷 {'长安': 0, '成都': 0, '扬州': 0, '杭州': 0, '苏州': 0, '金陵': 0, '幽州': 0, '明州': 0, '洛阳': 0, '钱塘': 0, '益州': 0, '临安': 0, '汴州': 0, '汴梁': 0, '锦官城': 0, '锦城': 0, '楼兰': 0, '渭城': 0, '玉门关': 0}\n"
     ]
    }
   ],
   "source": [
    "for i in han_friend:\n",
    "    print(i,tang_city_count(i))"
   ]
  },
  {
   "cell_type": "code",
   "execution_count": 65,
   "metadata": {},
   "outputs": [
    {
     "name": "stdout",
     "output_type": "stream",
     "text": [
      "劉長卿 {'长安': 11, '成都': 0, '扬州': 3, '杭州': 0, '苏州': 0, '金陵': 8, '幽州': 1, '明州': 0, '洛阳': 9, '钱塘': 0, '益州': 0, '临安': 0, '汴州': 0, '汴梁': 0, '锦官城': 0, '锦城': 0, '楼兰': 0, '渭城': 0, '玉门关': 0}\n",
      "劉方平 {'长安': 0, '成都': 0, '扬州': 0, '杭州': 0, '苏州': 0, '金陵': 0, '幽州': 0, '明州': 0, '洛阳': 3, '钱塘': 0, '益州': 0, '临安': 0, '汴州': 0, '汴梁': 0, '锦官城': 0, '锦城': 0, '楼兰': 0, '渭城': 0, '玉门关': 0}\n",
      "李嘉祐 {'长安': 1, '成都': 0, '扬州': 0, '杭州': 0, '苏州': 0, '金陵': 2, '幽州': 0, '明州': 0, '洛阳': 0, '钱塘': 0, '益州': 0, '临安': 0, '汴州': 0, '汴梁': 0, '锦官城': 0, '锦城': 0, '楼兰': 0, '渭城': 0, '玉门关': 0}\n",
      "皇甫冉 {'长安': 4, '成都': 0, '扬州': 0, '杭州': 0, '苏州': 0, '金陵': 0, '幽州': 0, '明州': 0, '洛阳': 2, '钱塘': 0, '益州': 0, '临安': 0, '汴州': 0, '汴梁': 0, '锦官城': 0, '锦城': 0, '楼兰': 0, '渭城': 0, '玉门关': 0}\n"
     ]
    }
   ],
   "source": [
    "for i in liu_friend:\n",
    "    print(i,tang_city_count(i))"
   ]
  },
  {
   "cell_type": "code",
   "execution_count": 66,
   "metadata": {},
   "outputs": [
    {
     "name": "stdout",
     "output_type": "stream",
     "text": [
      "杜牧 {'长安': 5, '成都': 0, '扬州': 7, '杭州': 0, '苏州': 0, '金陵': 3, '幽州': 0, '明州': 0, '洛阳': 3, '钱塘': 0, '益州': 0, '临安': 0, '汴州': 0, '汴梁': 0, '锦官城': 0, '锦城': 0, '楼兰': 0, '渭城': 0, '玉门关': 0}\n",
      "李商隱 {'长安': 1, '成都': 2, '扬州': 0, '杭州': 0, '苏州': 0, '金陵': 2, '幽州': 0, '明州': 0, '洛阳': 3, '钱塘': 0, '益州': 1, '临安': 0, '汴州': 0, '汴梁': 0, '锦官城': 0, '锦城': 1, '楼兰': 0, '渭城': 0, '玉门关': 0}\n",
      "韋莊 {'长安': 11, '成都': 0, '扬州': 1, '杭州': 0, '苏州': 0, '金陵': 2, '幽州': 0, '明州': 0, '洛阳': 4, '钱塘': 1, '益州': 0, '临安': 0, '汴州': 0, '汴梁': 0, '锦官城': 0, '锦城': 1, '楼兰': 1, '渭城': 1, '玉门关': 0}\n",
      "許渾 {'长安': 8, '成都': 0, '扬州': 0, '杭州': 0, '苏州': 0, '金陵': 1, '幽州': 0, '明州': 0, '洛阳': 4, '钱塘': 0, '益州': 0, '临安': 0, '汴州': 0, '汴梁': 0, '锦官城': 0, '锦城': 0, '楼兰': 0, '渭城': 0, '玉门关': 0}\n"
     ]
    }
   ],
   "source": [
    "for i in wei_friend:\n",
    "    print(i,tang_city_count(i))"
   ]
  },
  {
   "cell_type": "code",
   "execution_count": 67,
   "metadata": {},
   "outputs": [
    {
     "name": "stdout",
     "output_type": "stream",
     "text": [
      "苏轼 {'长安': 7, '成都': 3, '扬州': 3, '杭州': 0, '苏州': 0, '金陵': 0, '幽州': 0, '明州': 0, '洛阳': 1, '钱塘': 5, '益州': 0, '临安': 0, '汴州': 0, '汴梁': 0, '锦官城': 0, '锦城': 0, '楼兰': 0, '渭城': 0, '玉门关': 0}\n",
      "王安石 {'长安': 0, '成都': 0, '扬州': 0, '杭州': 0, '苏州': 0, '金陵': 0, '幽州': 0, '明州': 0, '洛阳': 0, '钱塘': 0, '益州': 0, '临安': 0, '汴州': 0, '汴梁': 0, '锦官城': 0, '锦城': 0, '楼兰': 0, '渭城': 0, '玉门关': 0}\n",
      "韩琦 {'长安': 0, '成都': 0, '扬州': 0, '杭州': 0, '苏州': 0, '金陵': 0, '幽州': 0, '明州': 0, '洛阳': 0, '钱塘': 0, '益州': 0, '临安': 0, '汴州': 0, '汴梁': 0, '锦官城': 0, '锦城': 0, '楼兰': 0, '渭城': 0, '玉门关': 0}\n",
      "欧阳修 {'长安': 3, '成都': 0, '扬州': 0, '杭州': 0, '苏州': 0, '金陵': 0, '幽州': 0, '明州': 0, '洛阳': 3, '钱塘': 1, '益州': 0, '临安': 0, '汴州': 0, '汴梁': 0, '锦官城': 0, '锦城': 0, '楼兰': 0, '渭城': 0, '玉门关': 0}\n",
      "黄庭坚 {'长安': 0, '成都': 0, '扬州': 2, '杭州': 0, '苏州': 0, '金陵': 0, '幽州': 0, '明州': 0, '洛阳': 1, '钱塘': 0, '益州': 0, '临安': 0, '汴州': 0, '汴梁': 0, '锦官城': 0, '锦城': 0, '楼兰': 0, '渭城': 0, '玉门关': 0}\n"
     ]
    }
   ],
   "source": [
    "for i in su_friend:\n",
    "    print(i,song_city_count(i))"
   ]
  },
  {
   "cell_type": "code",
   "execution_count": 68,
   "metadata": {},
   "outputs": [
    {
     "name": "stdout",
     "output_type": "stream",
     "text": [
      "苏轼 [('归去', 44), ('何处', 39), ('使君', 28), ('佳人', 26), ('人间', 23), ('明月', 22), ('江南', 20), ('尊前', 20), ('千里', 19), ('风流', 18)]\n",
      "王安石 [('隔岸', 5), ('今日', 4), ('是何', 4), ('不肯', 4), ('世间', 4), ('相逢', 4), ('故人', 3), ('春风', 3), ('茫然', 3), ('弹指', 3)]\n",
      "韩琦 [('滴尽', 2), ('胭脂', 2), ('谁向', 2), ('花前', 2), ('人远', 2), ('空翠', 2), ('安阳', 2), ('形势', 2), ('西州', 2), ('和气', 2)]\n",
      "欧阳修 [('相思', 26), ('东风', 15), ('把酒', 14), ('红粉', 14), ('西湖', 13), ('今日', 13), ('阑干', 12), ('尊前', 12), ('风流', 12), ('无人', 11)]\n",
      "黄庭坚 [('万里', 19), ('何处', 15), ('归来', 14), ('尊前', 12), ('风流', 12), ('明月', 11), ('不得', 10), ('桃李', 10), ('年少', 9), ('江南', 9)]\n"
     ]
    }
   ],
   "source": [
    "for i in su_friend:\n",
    "    print(i,song_author_topK(i,10))"
   ]
  },
  {
   "cell_type": "code",
   "execution_count": 69,
   "metadata": {},
   "outputs": [
    {
     "name": "stdout",
     "output_type": "stream",
     "text": [
      "李白 [('不可', 75), ('黃金', 68), ('春風', 65), ('萬里', 60), ('白日', 57), ('明月', 52), ('青天', 49), ('相思', 49), ('天地', 47), ('青雲', 44)]\n",
      "杜甫 [('萬里', 75), ('乾坤', 45), ('風塵', 44), ('不可', 41), ('白帝', 41), ('故人', 40), ('回首', 38), ('巫峽', 36), ('干戈', 35), ('白頭', 35)]\n",
      "白居易 [('不知', 107), ('何處', 104), ('今日', 104), ('人間', 93), ('不如', 91), ('不得', 88), ('何人', 84), ('平生', 72), ('三十', 71), ('今朝', 69)]\n",
      "劉禹錫 [('何處', 45), ('今日', 30), ('從此', 29), ('人間', 28), ('洛陽', 27), ('故人', 23), ('春深', 22), ('如今', 21), ('深春', 20), ('旌旗', 20)]\n"
     ]
    }
   ],
   "source": [
    "for i in li_friend:\n",
    "    print(i,tang_author_topK(i,10))"
   ]
  },
  {
   "cell_type": "code",
   "execution_count": null,
   "metadata": {},
   "outputs": [],
   "source": []
  }
 ],
 "metadata": {
  "kernelspec": {
   "display_name": "Python [conda env:root] *",
   "language": "python",
   "name": "conda-root-py"
  },
  "language_info": {
   "codemirror_mode": {
    "name": "ipython",
    "version": 3
   },
   "file_extension": ".py",
   "mimetype": "text/x-python",
   "name": "python",
   "nbconvert_exporter": "python",
   "pygments_lexer": "ipython3",
   "version": "3.8.3"
  }
 },
 "nbformat": 4,
 "nbformat_minor": 4
}
