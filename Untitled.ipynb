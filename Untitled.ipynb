{
 "cells": [
  {
   "cell_type": "code",
   "execution_count": 1,
   "metadata": {},
   "outputs": [],
   "source": [
    "import os \n",
    "import re\n",
    "import json\n",
    "import pandas as pd"
   ]
  },
  {
   "cell_type": "code",
   "execution_count": 3,
   "metadata": {},
   "outputs": [],
   "source": [
    "LYRIC_DIR = './ci/'\n",
    "POEM_DIR = './json/'\n",
    "poems = []\n",
    "file_list = os.listdir(POEM_DIR)\n",
    "for file in file_list:\n",
    "    if file.startswith('poet.'):\n",
    "        poems.append(pd.read_json(f'{POEM_DIR}{file}'))\n",
    "poem_df = pd.concat(poems, ignore_index=True)\n",
    "\n",
    "def cut_lines(poem):\n",
    "    lines = []\n",
    "    pattern = r',|\\.|/|;|\\'|`|\\[|\\]|<|>|\\?|:|\"|\\{|\\}|\\~|!|@|#|\\$|%|\\^|&|\\(|\\)|-|=|\\_|\\+|，|。|、|；|‘|’|【|】|·|！| |…|（|）'\n",
    "    for pairs in poem:\n",
    "        lines.extend(list(filter(lambda x: len(x) > 0, re.split(pattern, pairs))))\n",
    "    return lines"
   ]
  },
  {
   "cell_type": "code",
   "execution_count": 4,
   "metadata": {},
   "outputs": [],
   "source": [
    "poem_df['lines'] = poem_df['paragraphs'].apply(cut_lines)"
   ]
  },
  {
   "cell_type": "code",
   "execution_count": 5,
   "metadata": {},
   "outputs": [],
   "source": [
    "def first_segment(lines):\n",
    "    words = []\n",
    "    for line in lines:\n",
    "        if len(line) == 5: \n",
    "            words.append(line[0:2])\n",
    "        if len(line) == 7: \n",
    "            words.append(line[0:2])\n",
    "            words.append(line[2:4])\n",
    "    return words"
   ]
  },
  {
   "cell_type": "code",
   "execution_count": 6,
   "metadata": {},
   "outputs": [],
   "source": [
    "poem_df['dic'] = poem_df['lines'].apply(first_segment)"
   ]
  },
  {
   "cell_type": "code",
   "execution_count": 7,
   "metadata": {},
   "outputs": [],
   "source": [
    "import jieba"
   ]
  },
  {
   "cell_type": "code",
   "execution_count": 8,
   "metadata": {},
   "outputs": [],
   "source": [
    "word_freq = dict()\n",
    "\n",
    "dictionary = [item for sublist in poem_df['dic'] for item in sublist]\n",
    "for i in dictionary:\n",
    "    word_freq[i] = word_freq.get(i, 0) + 1\n",
    "\n",
    "word_freq = {key:val for key, val in word_freq.items() if val >= 3}\n",
    "\n",
    "with open('./poem_dict.txt', 'w', encoding='utf-8') as f:\n",
    "    for k, v in word_freq.items():\n",
    "        f.write(f'{k} {v}\\n')\n",
    "\n",
    "jieba.set_dictionary('./poem_dict.txt')"
   ]
  },
  {
   "cell_type": "code",
   "execution_count": null,
   "metadata": {},
   "outputs": [],
   "source": []
  }
 ],
 "metadata": {
  "kernelspec": {
   "display_name": "Python [conda env:root] *",
   "language": "python",
   "name": "conda-root-py"
  },
  "language_info": {
   "codemirror_mode": {
    "name": "ipython",
    "version": 3
   },
   "file_extension": ".py",
   "mimetype": "text/x-python",
   "name": "python",
   "nbconvert_exporter": "python",
   "pygments_lexer": "ipython3",
   "version": "3.8.3"
  }
 },
 "nbformat": 4,
 "nbformat_minor": 4
}
